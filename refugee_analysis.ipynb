{
 "cells": [
  {
   "cell_type": "markdown",
   "metadata": {},
   "source": [
    "# Refugee Data Cleaning Mission\n",
    "\n",
    "I have used data scraping software to collect the data from the following source: https://en.wikipedia.org/wiki/List_of_countries_by_refugee_population \n",
    "\n",
    "This source from wikipedia has two tables, refugees by their country of asylum and refugees by their country of origin.  \n",
    "Key: N = Note; E = Explanation; G; Graphic"
   ]
  },
  {
   "cell_type": "markdown",
   "metadata": {},
   "source": [
    "##### Importing and inspecting the data"
   ]
  },
  {
   "cell_type": "code",
   "execution_count": 1,
   "metadata": {},
   "outputs": [],
   "source": [
    "import pandas as pd\n",
    "import numpy as np\n",
    "import matplotlib.pyplot as plt\n",
    "import seaborn as sns\n",
    "sns.set()"
   ]
  },
  {
   "cell_type": "code",
   "execution_count": 2,
   "metadata": {
    "scrolled": true
   },
   "outputs": [],
   "source": [
    "rpc = pd.read_csv(\"refugees_per_country.csv\", encoding = \"utf-8\")"
   ]
  },
  {
   "cell_type": "code",
   "execution_count": 3,
   "metadata": {
    "scrolled": true
   },
   "outputs": [
    {
     "data": {
      "text/html": [
       "<div>\n",
       "<style scoped>\n",
       "    .dataframe tbody tr th:only-of-type {\n",
       "        vertical-align: middle;\n",
       "    }\n",
       "\n",
       "    .dataframe tbody tr th {\n",
       "        vertical-align: top;\n",
       "    }\n",
       "\n",
       "    .dataframe thead th {\n",
       "        text-align: right;\n",
       "    }\n",
       "</style>\n",
       "<table border=\"1\" class=\"dataframe\">\n",
       "  <thead>\n",
       "    <tr style=\"text-align: right;\">\n",
       "      <th></th>\n",
       "      <th>country name</th>\n",
       "      <th>number of refugees per 1000 people</th>\n",
       "      <th>2016</th>\n",
       "      <th>2015</th>\n",
       "      <th>2014</th>\n",
       "      <th>2013</th>\n",
       "      <th>2012</th>\n",
       "      <th>2011</th>\n",
       "      <th>2010</th>\n",
       "      <th>2009</th>\n",
       "      <th>2008</th>\n",
       "      <th>2007</th>\n",
       "    </tr>\n",
       "  </thead>\n",
       "  <tbody>\n",
       "    <tr>\n",
       "      <th>0</th>\n",
       "      <td>Afghanistan</td>\n",
       "      <td>7.14</td>\n",
       "      <td>59,771</td>\n",
       "      <td>205,558</td>\n",
       "      <td>280,267</td>\n",
       "      <td>72</td>\n",
       "      <td>75</td>\n",
       "      <td>66</td>\n",
       "      <td>43</td>\n",
       "      <td>37</td>\n",
       "      <td>37</td>\n",
       "      <td>42</td>\n",
       "    </tr>\n",
       "    <tr>\n",
       "      <th>1</th>\n",
       "      <td>Albania</td>\n",
       "      <td>0.05</td>\n",
       "      <td>138</td>\n",
       "      <td>154</td>\n",
       "      <td>104</td>\n",
       "      <td>96</td>\n",
       "      <td>86</td>\n",
       "      <td>82</td>\n",
       "      <td>76</td>\n",
       "      <td>70</td>\n",
       "      <td>65</td>\n",
       "      <td>77</td>\n",
       "    </tr>\n",
       "    <tr>\n",
       "      <th>2</th>\n",
       "      <td>Algeria</td>\n",
       "      <td>2.42</td>\n",
       "      <td>94,232</td>\n",
       "      <td>94,144</td>\n",
       "      <td>94,128</td>\n",
       "      <td>94,150</td>\n",
       "      <td>94,133</td>\n",
       "      <td>94,148</td>\n",
       "      <td>94,144</td>\n",
       "      <td>94,137</td>\n",
       "      <td>94,093</td>\n",
       "      <td>94,137</td>\n",
       "    </tr>\n",
       "    <tr>\n",
       "      <th>3</th>\n",
       "      <td>Angola</td>\n",
       "      <td>0.64</td>\n",
       "      <td>15,555</td>\n",
       "      <td>15,572</td>\n",
       "      <td>15,474</td>\n",
       "      <td>23,783</td>\n",
       "      <td>23,413</td>\n",
       "      <td>16,223</td>\n",
       "      <td>15,155</td>\n",
       "      <td>14,734</td>\n",
       "      <td>12,710</td>\n",
       "      <td>12,069</td>\n",
       "    </tr>\n",
       "    <tr>\n",
       "      <th>4</th>\n",
       "      <td>Argentina</td>\n",
       "      <td>0.08</td>\n",
       "      <td>3,293</td>\n",
       "      <td>3,523</td>\n",
       "      <td>3,498</td>\n",
       "      <td>3,362</td>\n",
       "      <td>3,488</td>\n",
       "      <td>3,361</td>\n",
       "      <td>3,276</td>\n",
       "      <td>3,230</td>\n",
       "      <td>2,845</td>\n",
       "      <td>3,263</td>\n",
       "    </tr>\n",
       "    <tr>\n",
       "      <th>5</th>\n",
       "      <td>Armenia</td>\n",
       "      <td>5.22</td>\n",
       "      <td>17,886</td>\n",
       "      <td>3,240</td>\n",
       "      <td>3,190</td>\n",
       "      <td>3,132</td>\n",
       "      <td>2,854</td>\n",
       "      <td>2,918</td>\n",
       "      <td>3,296</td>\n",
       "      <td>3,607</td>\n",
       "      <td>3,953</td>\n",
       "      <td>4,566</td>\n",
       "    </tr>\n",
       "    <tr>\n",
       "      <th>6</th>\n",
       "      <td>Aruba</td>\n",
       "      <td>NaN</td>\n",
       "      <td>NaN</td>\n",
       "      <td>NaN</td>\n",
       "      <td>NaN</td>\n",
       "      <td>1</td>\n",
       "      <td>NaN</td>\n",
       "      <td>NaN</td>\n",
       "      <td>NaN</td>\n",
       "      <td>NaN</td>\n",
       "      <td>NaN</td>\n",
       "      <td>NaN</td>\n",
       "    </tr>\n",
       "    <tr>\n",
       "      <th>7</th>\n",
       "      <td>Australia</td>\n",
       "      <td>1.51</td>\n",
       "      <td>42,188</td>\n",
       "      <td>35,582</td>\n",
       "      <td>35,582</td>\n",
       "      <td>34,503</td>\n",
       "      <td>30,083</td>\n",
       "      <td>23,434</td>\n",
       "      <td>21,805</td>\n",
       "      <td>22,548</td>\n",
       "      <td>20,919</td>\n",
       "      <td>22,164</td>\n",
       "    </tr>\n",
       "    <tr>\n",
       "      <th>8</th>\n",
       "      <td>Austria</td>\n",
       "      <td>7.13</td>\n",
       "      <td>93,250</td>\n",
       "      <td>60,747</td>\n",
       "      <td>60,747</td>\n",
       "      <td>55,598</td>\n",
       "      <td>51,730</td>\n",
       "      <td>47,073</td>\n",
       "      <td>42,630</td>\n",
       "      <td>38,906</td>\n",
       "      <td>37,557</td>\n",
       "      <td>30,773</td>\n",
       "    </tr>\n",
       "    <tr>\n",
       "      <th>9</th>\n",
       "      <td>Azerbaijan</td>\n",
       "      <td>0.14</td>\n",
       "      <td>1,193</td>\n",
       "      <td>1,357</td>\n",
       "      <td>1,299</td>\n",
       "      <td>1,380</td>\n",
       "      <td>1,468</td>\n",
       "      <td>1,730</td>\n",
       "      <td>1,891</td>\n",
       "      <td>1,642</td>\n",
       "      <td>2,061</td>\n",
       "      <td>2,352</td>\n",
       "    </tr>\n",
       "  </tbody>\n",
       "</table>\n",
       "</div>"
      ],
      "text/plain": [
       "  country name  number of refugees per 1000 people    2016     2015     2014  \\\n",
       "0  Afghanistan                                7.14  59,771  205,558  280,267   \n",
       "1      Albania                                0.05     138      154      104   \n",
       "2      Algeria                                2.42  94,232   94,144   94,128   \n",
       "3       Angola                                0.64  15,555   15,572   15,474   \n",
       "4    Argentina                                0.08   3,293    3,523    3,498   \n",
       "5      Armenia                                5.22  17,886    3,240    3,190   \n",
       "6        Aruba                                 NaN     NaN      NaN      NaN   \n",
       "7    Australia                                1.51  42,188   35,582   35,582   \n",
       "8      Austria                                7.13  93,250   60,747   60,747   \n",
       "9   Azerbaijan                                0.14   1,193    1,357    1,299   \n",
       "\n",
       "     2013    2012    2011    2010    2009    2008    2007  \n",
       "0      72      75      66      43      37      37      42  \n",
       "1      96      86      82      76      70      65      77  \n",
       "2  94,150  94,133  94,148  94,144  94,137  94,093  94,137  \n",
       "3  23,783  23,413  16,223  15,155  14,734  12,710  12,069  \n",
       "4   3,362   3,488   3,361   3,276   3,230   2,845   3,263  \n",
       "5   3,132   2,854   2,918   3,296   3,607   3,953   4,566  \n",
       "6       1     NaN     NaN     NaN     NaN     NaN     NaN  \n",
       "7  34,503  30,083  23,434  21,805  22,548  20,919  22,164  \n",
       "8  55,598  51,730  47,073  42,630  38,906  37,557  30,773  \n",
       "9   1,380   1,468   1,730   1,891   1,642   2,061   2,352  "
      ]
     },
     "execution_count": 3,
     "metadata": {},
     "output_type": "execute_result"
    }
   ],
   "source": [
    "rpc.head(10)"
   ]
  },
  {
   "cell_type": "markdown",
   "metadata": {},
   "source": [
    "Observation: Showing the top portion of the table to get a feel for the data."
   ]
  },
  {
   "cell_type": "markdown",
   "metadata": {},
   "source": [
    "##### Data Cleaning"
   ]
  },
  {
   "cell_type": "code",
   "execution_count": 4,
   "metadata": {
    "scrolled": true
   },
   "outputs": [],
   "source": [
    "rpc.rename(columns = {\"number of refugees per 1000 people\": \"Refugees per 1000\"}, inplace = True)"
   ]
  },
  {
   "cell_type": "code",
   "execution_count": 5,
   "metadata": {},
   "outputs": [
    {
     "data": {
      "text/html": [
       "<div>\n",
       "<style scoped>\n",
       "    .dataframe tbody tr th:only-of-type {\n",
       "        vertical-align: middle;\n",
       "    }\n",
       "\n",
       "    .dataframe tbody tr th {\n",
       "        vertical-align: top;\n",
       "    }\n",
       "\n",
       "    .dataframe thead th {\n",
       "        text-align: right;\n",
       "    }\n",
       "</style>\n",
       "<table border=\"1\" class=\"dataframe\">\n",
       "  <thead>\n",
       "    <tr style=\"text-align: right;\">\n",
       "      <th></th>\n",
       "      <th>country name</th>\n",
       "      <th>Refugees per 1000</th>\n",
       "      <th>2016</th>\n",
       "      <th>2015</th>\n",
       "      <th>2014</th>\n",
       "      <th>2013</th>\n",
       "      <th>2012</th>\n",
       "      <th>2011</th>\n",
       "      <th>2010</th>\n",
       "      <th>2009</th>\n",
       "      <th>2008</th>\n",
       "      <th>2007</th>\n",
       "    </tr>\n",
       "  </thead>\n",
       "  <tbody>\n",
       "    <tr>\n",
       "      <th>0</th>\n",
       "      <td>Afghanistan</td>\n",
       "      <td>7.14</td>\n",
       "      <td>59,771</td>\n",
       "      <td>205,558</td>\n",
       "      <td>280,267</td>\n",
       "      <td>72</td>\n",
       "      <td>75</td>\n",
       "      <td>66</td>\n",
       "      <td>43</td>\n",
       "      <td>37</td>\n",
       "      <td>37</td>\n",
       "      <td>42</td>\n",
       "    </tr>\n",
       "    <tr>\n",
       "      <th>1</th>\n",
       "      <td>Albania</td>\n",
       "      <td>0.05</td>\n",
       "      <td>138</td>\n",
       "      <td>154</td>\n",
       "      <td>104</td>\n",
       "      <td>96</td>\n",
       "      <td>86</td>\n",
       "      <td>82</td>\n",
       "      <td>76</td>\n",
       "      <td>70</td>\n",
       "      <td>65</td>\n",
       "      <td>77</td>\n",
       "    </tr>\n",
       "    <tr>\n",
       "      <th>2</th>\n",
       "      <td>Algeria</td>\n",
       "      <td>2.42</td>\n",
       "      <td>94,232</td>\n",
       "      <td>94,144</td>\n",
       "      <td>94,128</td>\n",
       "      <td>94,150</td>\n",
       "      <td>94,133</td>\n",
       "      <td>94,148</td>\n",
       "      <td>94,144</td>\n",
       "      <td>94,137</td>\n",
       "      <td>94,093</td>\n",
       "      <td>94,137</td>\n",
       "    </tr>\n",
       "    <tr>\n",
       "      <th>3</th>\n",
       "      <td>Angola</td>\n",
       "      <td>0.64</td>\n",
       "      <td>15,555</td>\n",
       "      <td>15,572</td>\n",
       "      <td>15,474</td>\n",
       "      <td>23,783</td>\n",
       "      <td>23,413</td>\n",
       "      <td>16,223</td>\n",
       "      <td>15,155</td>\n",
       "      <td>14,734</td>\n",
       "      <td>12,710</td>\n",
       "      <td>12,069</td>\n",
       "    </tr>\n",
       "    <tr>\n",
       "      <th>4</th>\n",
       "      <td>Argentina</td>\n",
       "      <td>0.08</td>\n",
       "      <td>3,293</td>\n",
       "      <td>3,523</td>\n",
       "      <td>3,498</td>\n",
       "      <td>3,362</td>\n",
       "      <td>3,488</td>\n",
       "      <td>3,361</td>\n",
       "      <td>3,276</td>\n",
       "      <td>3,230</td>\n",
       "      <td>2,845</td>\n",
       "      <td>3,263</td>\n",
       "    </tr>\n",
       "  </tbody>\n",
       "</table>\n",
       "</div>"
      ],
      "text/plain": [
       "  country name  Refugees per 1000    2016     2015     2014    2013    2012  \\\n",
       "0  Afghanistan               7.14  59,771  205,558  280,267      72      75   \n",
       "1      Albania               0.05     138      154      104      96      86   \n",
       "2      Algeria               2.42  94,232   94,144   94,128  94,150  94,133   \n",
       "3       Angola               0.64  15,555   15,572   15,474  23,783  23,413   \n",
       "4    Argentina               0.08   3,293    3,523    3,498   3,362   3,488   \n",
       "\n",
       "     2011    2010    2009    2008    2007  \n",
       "0      66      43      37      37      42  \n",
       "1      82      76      70      65      77  \n",
       "2  94,148  94,144  94,137  94,093  94,137  \n",
       "3  16,223  15,155  14,734  12,710  12,069  \n",
       "4   3,361   3,276   3,230   2,845   3,263  "
      ]
     },
     "execution_count": 5,
     "metadata": {},
     "output_type": "execute_result"
    }
   ],
   "source": [
    "rpc.head(5)"
   ]
  },
  {
   "cell_type": "code",
   "execution_count": 6,
   "metadata": {},
   "outputs": [
    {
     "name": "stdout",
     "output_type": "stream",
     "text": [
      "    country name  Refugees per 1000\n",
      "0    Afghanistan               7.14\n",
      "1        Albania               0.05\n",
      "2        Algeria               2.42\n",
      "3         Angola               0.64\n",
      "4      Argentina               0.08\n",
      "..           ...                ...\n",
      "177    Venezuela               5.68\n",
      "178      Vietnam                NaN\n",
      "179        Yemen              10.05\n",
      "180       Zambia               1.64\n",
      "181     Zimbabwe               0.40\n",
      "\n",
      "[182 rows x 2 columns]\n"
     ]
    }
   ],
   "source": [
    "no_per_1000 = rpc[[\"country name\", \"Refugees per 1000\"]]\n",
    "print(no_per_1000)"
   ]
  },
  {
   "cell_type": "code",
   "execution_count": 7,
   "metadata": {},
   "outputs": [
    {
     "data": {
      "text/html": [
       "<div>\n",
       "<style scoped>\n",
       "    .dataframe tbody tr th:only-of-type {\n",
       "        vertical-align: middle;\n",
       "    }\n",
       "\n",
       "    .dataframe tbody tr th {\n",
       "        vertical-align: top;\n",
       "    }\n",
       "\n",
       "    .dataframe thead th {\n",
       "        text-align: right;\n",
       "    }\n",
       "</style>\n",
       "<table border=\"1\" class=\"dataframe\">\n",
       "  <thead>\n",
       "    <tr style=\"text-align: right;\">\n",
       "      <th></th>\n",
       "      <th>country name</th>\n",
       "      <th>Refugees per 1000</th>\n",
       "    </tr>\n",
       "  </thead>\n",
       "  <tbody>\n",
       "    <tr>\n",
       "      <th>6</th>\n",
       "      <td>Aruba</td>\n",
       "      <td>NaN</td>\n",
       "    </tr>\n",
       "    <tr>\n",
       "      <th>13</th>\n",
       "      <td>Barbados</td>\n",
       "      <td>NaN</td>\n",
       "    </tr>\n",
       "    <tr>\n",
       "      <th>16</th>\n",
       "      <td>Belize</td>\n",
       "      <td>NaN</td>\n",
       "    </tr>\n",
       "    <tr>\n",
       "      <th>22</th>\n",
       "      <td>British Virgin Islands</td>\n",
       "      <td>NaN</td>\n",
       "    </tr>\n",
       "    <tr>\n",
       "      <th>34</th>\n",
       "      <td>Colombia</td>\n",
       "      <td>NaN</td>\n",
       "    </tr>\n",
       "    <tr>\n",
       "      <th>62</th>\n",
       "      <td>Grenada</td>\n",
       "      <td>NaN</td>\n",
       "    </tr>\n",
       "    <tr>\n",
       "      <th>67</th>\n",
       "      <td>Haiti</td>\n",
       "      <td>NaN</td>\n",
       "    </tr>\n",
       "    <tr>\n",
       "      <th>68</th>\n",
       "      <td>Honduras</td>\n",
       "      <td>NaN</td>\n",
       "    </tr>\n",
       "    <tr>\n",
       "      <th>95</th>\n",
       "      <td>Macau</td>\n",
       "      <td>NaN</td>\n",
       "    </tr>\n",
       "    <tr>\n",
       "      <th>97</th>\n",
       "      <td>Madagascar</td>\n",
       "      <td>NaN</td>\n",
       "    </tr>\n",
       "    <tr>\n",
       "      <th>104</th>\n",
       "      <td>Micronesia</td>\n",
       "      <td>NaN</td>\n",
       "    </tr>\n",
       "    <tr>\n",
       "      <th>107</th>\n",
       "      <td>Mongolia</td>\n",
       "      <td>NaN</td>\n",
       "    </tr>\n",
       "    <tr>\n",
       "      <th>127</th>\n",
       "      <td>Philippines</td>\n",
       "      <td>NaN</td>\n",
       "    </tr>\n",
       "    <tr>\n",
       "      <th>136</th>\n",
       "      <td>Samoa</td>\n",
       "      <td>NaN</td>\n",
       "    </tr>\n",
       "    <tr>\n",
       "      <th>141</th>\n",
       "      <td>Seychelles</td>\n",
       "      <td>NaN</td>\n",
       "    </tr>\n",
       "    <tr>\n",
       "      <th>143</th>\n",
       "      <td>Singapore</td>\n",
       "      <td>NaN</td>\n",
       "    </tr>\n",
       "    <tr>\n",
       "      <th>153</th>\n",
       "      <td>Suriname</td>\n",
       "      <td>NaN</td>\n",
       "    </tr>\n",
       "    <tr>\n",
       "      <th>161</th>\n",
       "      <td>East Timor</td>\n",
       "      <td>NaN</td>\n",
       "    </tr>\n",
       "    <tr>\n",
       "      <th>163</th>\n",
       "      <td>Tonga</td>\n",
       "      <td>NaN</td>\n",
       "    </tr>\n",
       "    <tr>\n",
       "      <th>175</th>\n",
       "      <td>Uzbekistan</td>\n",
       "      <td>NaN</td>\n",
       "    </tr>\n",
       "    <tr>\n",
       "      <th>176</th>\n",
       "      <td>Vanuatu</td>\n",
       "      <td>NaN</td>\n",
       "    </tr>\n",
       "    <tr>\n",
       "      <th>178</th>\n",
       "      <td>Vietnam</td>\n",
       "      <td>NaN</td>\n",
       "    </tr>\n",
       "  </tbody>\n",
       "</table>\n",
       "</div>"
      ],
      "text/plain": [
       "               country name  Refugees per 1000\n",
       "6                     Aruba                NaN\n",
       "13                 Barbados                NaN\n",
       "16                   Belize                NaN\n",
       "22   British Virgin Islands                NaN\n",
       "34                 Colombia                NaN\n",
       "62                  Grenada                NaN\n",
       "67                    Haiti                NaN\n",
       "68                 Honduras                NaN\n",
       "95                    Macau                NaN\n",
       "97               Madagascar                NaN\n",
       "104              Micronesia                NaN\n",
       "107                Mongolia                NaN\n",
       "127             Philippines                NaN\n",
       "136                   Samoa                NaN\n",
       "141              Seychelles                NaN\n",
       "143               Singapore                NaN\n",
       "153                Suriname                NaN\n",
       "161              East Timor                NaN\n",
       "163                   Tonga                NaN\n",
       "175              Uzbekistan                NaN\n",
       "176                 Vanuatu                NaN\n",
       "178                 Vietnam                NaN"
      ]
     },
     "execution_count": 7,
     "metadata": {},
     "output_type": "execute_result"
    }
   ],
   "source": [
    "no_per_1000[no_per_1000[\"Refugees per 1000\"].isnull()]"
   ]
  },
  {
   "cell_type": "markdown",
   "metadata": {},
   "source": [
    "N: Checking for null values in the data."
   ]
  },
  {
   "cell_type": "code",
   "execution_count": 8,
   "metadata": {},
   "outputs": [
    {
     "data": {
      "text/plain": [
       "country name         Vietnam\n",
       "Refugees per 1000        NaN\n",
       "2016                     NaN\n",
       "2015                     NaN\n",
       "2014                     NaN\n",
       "2013                     NaN\n",
       "2012                     NaN\n",
       "2011                     990\n",
       "2010                   1,928\n",
       "2009                   2,357\n",
       "2008                   2,357\n",
       "2007                   2,357\n",
       "Name: 178, dtype: object"
      ]
     },
     "execution_count": 8,
     "metadata": {},
     "output_type": "execute_result"
    }
   ],
   "source": [
    "rpc.iloc[178]"
   ]
  },
  {
   "cell_type": "markdown",
   "metadata": {},
   "source": [
    "N: Looking into what data is missing from a randomly selected country."
   ]
  },
  {
   "cell_type": "code",
   "execution_count": 9,
   "metadata": {},
   "outputs": [
    {
     "name": "stdout",
     "output_type": "stream",
     "text": [
      "country name         182\n",
      "Refugees per 1000    160\n",
      "2016                 168\n",
      "2015                 169\n",
      "2014                 170\n",
      "2013                 169\n",
      "2012                 167\n",
      "2011                 169\n",
      "2010                 163\n",
      "2009                 161\n",
      "2008                 156\n",
      "2007                 156\n",
      "dtype: int64\n"
     ]
    }
   ],
   "source": [
    "total_fields = rpc.count()\n",
    "print(total_fields)"
   ]
  },
  {
   "cell_type": "markdown",
   "metadata": {},
   "source": [
    "N: Since data is missing from 26 nations, this is small portion of the total set, therefore dropping those null values within is the best action to take."
   ]
  },
  {
   "cell_type": "code",
   "execution_count": 10,
   "metadata": {},
   "outputs": [],
   "source": [
    "rpc.dropna(inplace = True)"
   ]
  },
  {
   "cell_type": "code",
   "execution_count": 11,
   "metadata": {},
   "outputs": [
    {
     "data": {
      "text/plain": [
       "country name         False\n",
       "Refugees per 1000    False\n",
       "2016                 False\n",
       "2015                 False\n",
       "2014                 False\n",
       "2013                 False\n",
       "2012                 False\n",
       "2011                 False\n",
       "2010                 False\n",
       "2009                 False\n",
       "2008                 False\n",
       "2007                 False\n",
       "dtype: bool"
      ]
     },
     "execution_count": 11,
     "metadata": {},
     "output_type": "execute_result"
    }
   ],
   "source": [
    "nan_rpc = rpc.isna()\n",
    "nan_rpc.count() == True"
   ]
  },
  {
   "cell_type": "markdown",
   "metadata": {},
   "source": [
    "N: The dataset I am about to import now shows the percentage of a countries population which flee and the number of people who fled within a given year."
   ]
  },
  {
   "cell_type": "code",
   "execution_count": 12,
   "metadata": {},
   "outputs": [],
   "source": [
    "rbo = pd.read_csv(\"refugees_by_origin.csv\", encoding = \"utf8\")"
   ]
  },
  {
   "cell_type": "code",
   "execution_count": 13,
   "metadata": {
    "scrolled": false
   },
   "outputs": [
    {
     "data": {
      "text/html": [
       "<div>\n",
       "<style scoped>\n",
       "    .dataframe tbody tr th:only-of-type {\n",
       "        vertical-align: middle;\n",
       "    }\n",
       "\n",
       "    .dataframe tbody tr th {\n",
       "        vertical-align: top;\n",
       "    }\n",
       "\n",
       "    .dataframe thead th {\n",
       "        text-align: right;\n",
       "    }\n",
       "</style>\n",
       "<table border=\"1\" class=\"dataframe\">\n",
       "  <thead>\n",
       "    <tr style=\"text-align: right;\">\n",
       "      <th></th>\n",
       "      <th>country name</th>\n",
       "      <th>percentage of population</th>\n",
       "      <th>2014</th>\n",
       "      <th>2013</th>\n",
       "      <th>2012</th>\n",
       "      <th>2011</th>\n",
       "      <th>2010</th>\n",
       "      <th>2009</th>\n",
       "      <th>2008</th>\n",
       "      <th>2007</th>\n",
       "      <th>2006</th>\n",
       "    </tr>\n",
       "  </thead>\n",
       "  <tbody>\n",
       "    <tr>\n",
       "      <th>0</th>\n",
       "      <td>Afghanistan</td>\n",
       "      <td>7.59</td>\n",
       "      <td>2,596,270</td>\n",
       "      <td>2,556,502</td>\n",
       "      <td>2,586,152</td>\n",
       "      <td>2,664,436</td>\n",
       "      <td>3,054,709</td>\n",
       "      <td>1,905,804</td>\n",
       "      <td>1,817,913</td>\n",
       "      <td>1,909,911</td>\n",
       "      <td>2,107,519</td>\n",
       "    </tr>\n",
       "    <tr>\n",
       "      <th>1</th>\n",
       "      <td>Albania</td>\n",
       "      <td>0.35</td>\n",
       "      <td>10,158</td>\n",
       "      <td>10,103</td>\n",
       "      <td>12,568</td>\n",
       "      <td>13,551</td>\n",
       "      <td>14,772</td>\n",
       "      <td>15,711</td>\n",
       "      <td>15,006</td>\n",
       "      <td>15,340</td>\n",
       "      <td>14,080</td>\n",
       "    </tr>\n",
       "    <tr>\n",
       "      <th>2</th>\n",
       "      <td>Algeria</td>\n",
       "      <td>0.01</td>\n",
       "      <td>3,524</td>\n",
       "      <td>3,660</td>\n",
       "      <td>5,673</td>\n",
       "      <td>6,120</td>\n",
       "      <td>6,688</td>\n",
       "      <td>8,184</td>\n",
       "      <td>9,060</td>\n",
       "      <td>10,615</td>\n",
       "      <td>8,353</td>\n",
       "    </tr>\n",
       "    <tr>\n",
       "      <th>3</th>\n",
       "      <td>Andorra</td>\n",
       "      <td>0.01</td>\n",
       "      <td>7</td>\n",
       "      <td>5</td>\n",
       "      <td>7</td>\n",
       "      <td>6</td>\n",
       "      <td>6</td>\n",
       "      <td>6</td>\n",
       "      <td>6</td>\n",
       "      <td>9</td>\n",
       "      <td>10</td>\n",
       "    </tr>\n",
       "    <tr>\n",
       "      <th>4</th>\n",
       "      <td>Angola</td>\n",
       "      <td>0.04</td>\n",
       "      <td>9,484</td>\n",
       "      <td>10,286</td>\n",
       "      <td>19,258</td>\n",
       "      <td>128,664</td>\n",
       "      <td>134,858</td>\n",
       "      <td>141,021</td>\n",
       "      <td>171,393</td>\n",
       "      <td>186,155</td>\n",
       "      <td>206,501</td>\n",
       "    </tr>\n",
       "    <tr>\n",
       "      <th>5</th>\n",
       "      <td>Antigua and Barbuda</td>\n",
       "      <td>0.06</td>\n",
       "      <td>53</td>\n",
       "      <td>49</td>\n",
       "      <td>45</td>\n",
       "      <td>32</td>\n",
       "      <td>30</td>\n",
       "      <td>28</td>\n",
       "      <td>26</td>\n",
       "      <td>25</td>\n",
       "      <td>19</td>\n",
       "    </tr>\n",
       "    <tr>\n",
       "      <th>6</th>\n",
       "      <td>Argentina</td>\n",
       "      <td>0.00</td>\n",
       "      <td>318</td>\n",
       "      <td>388</td>\n",
       "      <td>447</td>\n",
       "      <td>518</td>\n",
       "      <td>557</td>\n",
       "      <td>608</td>\n",
       "      <td>1,047</td>\n",
       "      <td>1,171</td>\n",
       "      <td>894</td>\n",
       "    </tr>\n",
       "    <tr>\n",
       "      <th>7</th>\n",
       "      <td>Armenia</td>\n",
       "      <td>0.39</td>\n",
       "      <td>11,848</td>\n",
       "      <td>11,998</td>\n",
       "      <td>15,934</td>\n",
       "      <td>16,486</td>\n",
       "      <td>17,546</td>\n",
       "      <td>18,000</td>\n",
       "      <td>16,336</td>\n",
       "      <td>15,436</td>\n",
       "      <td>14,918</td>\n",
       "    </tr>\n",
       "    <tr>\n",
       "      <th>8</th>\n",
       "      <td>Australia</td>\n",
       "      <td>0.00</td>\n",
       "      <td>25</td>\n",
       "      <td>28</td>\n",
       "      <td>48</td>\n",
       "      <td>39</td>\n",
       "      <td>37</td>\n",
       "      <td>28</td>\n",
       "      <td>43</td>\n",
       "      <td>63</td>\n",
       "      <td>29</td>\n",
       "    </tr>\n",
       "    <tr>\n",
       "      <th>9</th>\n",
       "      <td>Austria</td>\n",
       "      <td>0.00</td>\n",
       "      <td>10</td>\n",
       "      <td>10</td>\n",
       "      <td>12</td>\n",
       "      <td>11</td>\n",
       "      <td>10</td>\n",
       "      <td>12</td>\n",
       "      <td>14</td>\n",
       "      <td>23</td>\n",
       "      <td>34</td>\n",
       "    </tr>\n",
       "  </tbody>\n",
       "</table>\n",
       "</div>"
      ],
      "text/plain": [
       "          country name  percentage of population       2014       2013  \\\n",
       "0          Afghanistan                      7.59  2,596,270  2,556,502   \n",
       "1              Albania                      0.35     10,158     10,103   \n",
       "2              Algeria                      0.01      3,524      3,660   \n",
       "3              Andorra                      0.01          7          5   \n",
       "4               Angola                      0.04      9,484     10,286   \n",
       "5  Antigua and Barbuda                      0.06         53         49   \n",
       "6            Argentina                      0.00        318        388   \n",
       "7              Armenia                      0.39     11,848     11,998   \n",
       "8            Australia                      0.00         25         28   \n",
       "9              Austria                      0.00         10         10   \n",
       "\n",
       "        2012       2011       2010       2009       2008       2007       2006  \n",
       "0  2,586,152  2,664,436  3,054,709  1,905,804  1,817,913  1,909,911  2,107,519  \n",
       "1     12,568     13,551     14,772     15,711     15,006     15,340     14,080  \n",
       "2      5,673      6,120      6,688      8,184      9,060     10,615      8,353  \n",
       "3          7          6          6          6          6          9         10  \n",
       "4     19,258    128,664    134,858    141,021    171,393    186,155    206,501  \n",
       "5         45         32         30         28         26         25         19  \n",
       "6        447        518        557        608      1,047      1,171        894  \n",
       "7     15,934     16,486     17,546     18,000     16,336     15,436     14,918  \n",
       "8         48         39         37         28         43         63         29  \n",
       "9         12         11         10         12         14         23         34  "
      ]
     },
     "execution_count": 13,
     "metadata": {},
     "output_type": "execute_result"
    }
   ],
   "source": [
    "rbo.head(10)"
   ]
  },
  {
   "cell_type": "code",
   "execution_count": 14,
   "metadata": {},
   "outputs": [],
   "source": [
    "rbo.rename(columns = {\"country name\": \"Country Name\", \n",
    "                     \"percentage of population\": \"Percentage of Population (%)\", \n",
    "                     \"2014\": \"Fleeing in (2014)\", \n",
    "                     \"2013\": \"Fleeing in (2013)\", \n",
    "                     \"2012\": \"Fleeing in (2012)\", \n",
    "                     \"2011\": \"Fleeing in (2011)\", \n",
    "                     \"2010\": \"Fleeing in (2010)\", \n",
    "                     \"2009\": \"Fleeing in (2009)\", \n",
    "                     \"2008\": \"Fleeing in (2008)\", \n",
    "                     \"2007\": \"Fleeing in (2007)\", \n",
    "                     \"2006\": \"Fleeing in (2006)\"}, inplace = True)"
   ]
  },
  {
   "cell_type": "code",
   "execution_count": 15,
   "metadata": {},
   "outputs": [],
   "source": [
    "rbo.set_index(\"Country Name\", inplace = True)"
   ]
  },
  {
   "cell_type": "code",
   "execution_count": 16,
   "metadata": {},
   "outputs": [
    {
     "name": "stdout",
     "output_type": "stream",
     "text": [
      "Percentage of Population (%)    204\n",
      "Fleeing in (2014)               202\n",
      "Fleeing in (2013)               201\n",
      "Fleeing in (2012)               198\n",
      "Fleeing in (2011)               197\n",
      "Fleeing in (2010)               194\n",
      "Fleeing in (2009)               191\n",
      "Fleeing in (2008)               193\n",
      "Fleeing in (2007)               194\n",
      "Fleeing in (2006)               193\n",
      "dtype: int64\n"
     ]
    }
   ],
   "source": [
    "total_fields = rbo.count()\n",
    "print(total_fields)"
   ]
  },
  {
   "cell_type": "markdown",
   "metadata": {},
   "source": [
    "N: Inspect the dataset to find what nations have missing values."
   ]
  },
  {
   "cell_type": "code",
   "execution_count": 17,
   "metadata": {
    "scrolled": true
   },
   "outputs": [
    {
     "name": "stdout",
     "output_type": "stream",
     "text": [
      "                  Percentage of Population (%) Fleeing in (2014)  \\\n",
      "Country Name                                                       \n",
      "Cayman Islands                            0.01                 6   \n",
      "Cook Islands                              0.00                 1   \n",
      "Curaçao                                   0.02                35   \n",
      "French Polynesia                          0.00               NaN   \n",
      "Gibraltar                                 0.01                 2   \n",
      "Luxembourg                                0.00                 2   \n",
      "Marshall Islands                          0.01                 3   \n",
      "Monaco                                    0.01                 3   \n",
      "Nauru                                     0.00               NaN   \n",
      "Niue                                      1.11                18   \n",
      "Norfolk Island                            0.05                 1   \n",
      "Palau                                     0.00                 1   \n",
      "Samoa                                     0.00                 1   \n",
      "South Sudan                               4.92           616,143   \n",
      "Tuvalu                                    0.02                 2   \n",
      "Vanuatu                                   0.00                 1   \n",
      "\n",
      "                 Fleeing in (2013) Fleeing in (2012) Fleeing in (2011)  \\\n",
      "Country Name                                                             \n",
      "Cayman Islands                   6                 1                 1   \n",
      "Cook Islands                     1                 1                 1   \n",
      "Curaçao                         35               NaN               NaN   \n",
      "French Polynesia               NaN               NaN               NaN   \n",
      "Gibraltar                        2                 2                 2   \n",
      "Luxembourg                       1               NaN               NaN   \n",
      "Marshall Islands                 3                 2               NaN   \n",
      "Monaco                           3                 4                 4   \n",
      "Nauru                          NaN               NaN               NaN   \n",
      "Niue                            14                10                 7   \n",
      "Norfolk Island                 NaN               NaN               NaN   \n",
      "Palau                            1               NaN               NaN   \n",
      "Samoa                            1                 1                 1   \n",
      "South Sudan                114,371            86,909                 1   \n",
      "Tuvalu                           2                 1                 1   \n",
      "Vanuatu                          1                 1                 1   \n",
      "\n",
      "                 Fleeing in (2010) Fleeing in (2009) Fleeing in (2008)  \\\n",
      "Country Name                                                             \n",
      "Cayman Islands                   1               NaN               NaN   \n",
      "Cook Islands                     1                 1               NaN   \n",
      "Curaçao                        NaN               NaN               NaN   \n",
      "French Polynesia               NaN               NaN               NaN   \n",
      "Gibraltar                        2                 1                 1   \n",
      "Luxembourg                     NaN               NaN               NaN   \n",
      "Marshall Islands               NaN               NaN               NaN   \n",
      "Monaco                           2                 1               NaN   \n",
      "Nauru                          NaN               NaN                 3   \n",
      "Niue                           NaN               NaN               NaN   \n",
      "Norfolk Island                 NaN               NaN               NaN   \n",
      "Palau                          NaN               NaN                 1   \n",
      "Samoa                            1               NaN                 4   \n",
      "South Sudan                    NaN               NaN               NaN   \n",
      "Tuvalu                         NaN               NaN                 2   \n",
      "Vanuatu                          1               NaN               NaN   \n",
      "\n",
      "                 Fleeing in (2007) Fleeing in (2006)  \n",
      "Country Name                                          \n",
      "Cayman Islands                 NaN               NaN  \n",
      "Cook Islands                   NaN               NaN  \n",
      "Curaçao                        NaN               NaN  \n",
      "French Polynesia               NaN                 1  \n",
      "Gibraltar                        1               NaN  \n",
      "Luxembourg                       2                 2  \n",
      "Marshall Islands               NaN               NaN  \n",
      "Monaco                         NaN               NaN  \n",
      "Nauru                            3                 3  \n",
      "Niue                           NaN               NaN  \n",
      "Norfolk Island                 NaN               NaN  \n",
      "Palau                            1               NaN  \n",
      "Samoa                            2                 3  \n",
      "South Sudan                    NaN               NaN  \n",
      "Tuvalu                           2                 3  \n",
      "Vanuatu                        NaN               NaN  \n"
     ]
    }
   ],
   "source": [
    "null_data = rbo[rbo.isnull().any(axis=1)]\n",
    "print(null_data)"
   ]
  },
  {
   "cell_type": "markdown",
   "metadata": {},
   "source": [
    "N: Upon analysis of the provided dataframe, it appears that the majority of countries listed are either small island nations, city-states, or provinces within larger countries. In an effort to streamline the merging of rows from the other dataset, I recommend replacing any NaN values with a value of 0. This modification is expected to have minimal impact on the final results while increasing convenience and accuracy in data management."
   ]
  },
  {
   "cell_type": "code",
   "execution_count": 18,
   "metadata": {},
   "outputs": [],
   "source": [
    "rbo.fillna(value = 0, inplace = True)"
   ]
  },
  {
   "cell_type": "code",
   "execution_count": 19,
   "metadata": {},
   "outputs": [
    {
     "data": {
      "text/plain": [
       "Percentage of Population (%)    False\n",
       "Fleeing in (2014)               False\n",
       "Fleeing in (2013)               False\n",
       "Fleeing in (2012)               False\n",
       "Fleeing in (2011)               False\n",
       "Fleeing in (2010)               False\n",
       "Fleeing in (2009)               False\n",
       "Fleeing in (2008)               False\n",
       "Fleeing in (2007)               False\n",
       "Fleeing in (2006)               False\n",
       "dtype: bool"
      ]
     },
     "execution_count": 19,
     "metadata": {},
     "output_type": "execute_result"
    }
   ],
   "source": [
    "nan_rbo = rbo.isna()\n",
    "nan_rbo.count() == True"
   ]
  },
  {
   "cell_type": "code",
   "execution_count": 20,
   "metadata": {
    "scrolled": true
   },
   "outputs": [
    {
     "data": {
      "text/plain": [
       "Percentage of Population (%)    204\n",
       "Fleeing in (2014)               204\n",
       "Fleeing in (2013)               204\n",
       "Fleeing in (2012)               204\n",
       "Fleeing in (2011)               204\n",
       "Fleeing in (2010)               204\n",
       "Fleeing in (2009)               204\n",
       "Fleeing in (2008)               204\n",
       "Fleeing in (2007)               204\n",
       "Fleeing in (2006)               204\n",
       "dtype: int64"
      ]
     },
     "execution_count": 20,
     "metadata": {},
     "output_type": "execute_result"
    }
   ],
   "source": [
    "rbo.count()"
   ]
  },
  {
   "cell_type": "code",
   "execution_count": 21,
   "metadata": {},
   "outputs": [
    {
     "data": {
      "text/plain": [
       "Percentage of Population (%)    float64\n",
       "Fleeing in (2014)                object\n",
       "Fleeing in (2013)                object\n",
       "Fleeing in (2012)                object\n",
       "Fleeing in (2011)                object\n",
       "Fleeing in (2010)                object\n",
       "Fleeing in (2009)                object\n",
       "Fleeing in (2008)                object\n",
       "Fleeing in (2007)                object\n",
       "Fleeing in (2006)                object\n",
       "dtype: object"
      ]
     },
     "execution_count": 21,
     "metadata": {},
     "output_type": "execute_result"
    }
   ],
   "source": [
    "rbo.dtypes"
   ]
  },
  {
   "cell_type": "markdown",
   "metadata": {},
   "source": [
    "N: Our data is in the form of strings, therefore we have to transform them in quantifiable values."
   ]
  },
  {
   "cell_type": "code",
   "execution_count": 22,
   "metadata": {},
   "outputs": [],
   "source": [
    "cols_to_convert = [\"Fleeing in (2014)\", \"Fleeing in (2013)\", \"Fleeing in (2012)\", \"Fleeing in (2011)\", \"Fleeing in (2010)\", \"Fleeing in (2009)\", \"Fleeing in (2008)\", \"Fleeing in (2007)\", \"Fleeing in (2006)\"]\n",
    "\n",
    "for col in cols_to_convert:\n",
    "    rbo[col] = rbo[col].str.replace(',', '').astype(float)"
   ]
  },
  {
   "cell_type": "code",
   "execution_count": 23,
   "metadata": {},
   "outputs": [
    {
     "data": {
      "text/plain": [
       "Percentage of Population (%)    float64\n",
       "Fleeing in (2014)               float64\n",
       "Fleeing in (2013)               float64\n",
       "Fleeing in (2012)               float64\n",
       "Fleeing in (2011)               float64\n",
       "Fleeing in (2010)               float64\n",
       "Fleeing in (2009)               float64\n",
       "Fleeing in (2008)               float64\n",
       "Fleeing in (2007)               float64\n",
       "Fleeing in (2006)               float64\n",
       "dtype: object"
      ]
     },
     "execution_count": 23,
     "metadata": {},
     "output_type": "execute_result"
    }
   ],
   "source": [
    "rbo.dtypes"
   ]
  },
  {
   "cell_type": "code",
   "execution_count": 24,
   "metadata": {},
   "outputs": [
    {
     "data": {
      "text/html": [
       "<div>\n",
       "<style scoped>\n",
       "    .dataframe tbody tr th:only-of-type {\n",
       "        vertical-align: middle;\n",
       "    }\n",
       "\n",
       "    .dataframe tbody tr th {\n",
       "        vertical-align: top;\n",
       "    }\n",
       "\n",
       "    .dataframe thead th {\n",
       "        text-align: right;\n",
       "    }\n",
       "</style>\n",
       "<table border=\"1\" class=\"dataframe\">\n",
       "  <thead>\n",
       "    <tr style=\"text-align: right;\">\n",
       "      <th></th>\n",
       "      <th>Percentage of Population (%)</th>\n",
       "      <th>Fleeing in (2014)</th>\n",
       "      <th>Fleeing in (2013)</th>\n",
       "      <th>Fleeing in (2012)</th>\n",
       "      <th>Fleeing in (2011)</th>\n",
       "      <th>Fleeing in (2010)</th>\n",
       "      <th>Fleeing in (2009)</th>\n",
       "      <th>Fleeing in (2008)</th>\n",
       "      <th>Fleeing in (2007)</th>\n",
       "      <th>Fleeing in (2006)</th>\n",
       "    </tr>\n",
       "    <tr>\n",
       "      <th>Country Name</th>\n",
       "      <th></th>\n",
       "      <th></th>\n",
       "      <th></th>\n",
       "      <th></th>\n",
       "      <th></th>\n",
       "      <th></th>\n",
       "      <th></th>\n",
       "      <th></th>\n",
       "      <th></th>\n",
       "      <th></th>\n",
       "    </tr>\n",
       "  </thead>\n",
       "  <tbody>\n",
       "    <tr>\n",
       "      <th>Afghanistan</th>\n",
       "      <td>7.59</td>\n",
       "      <td>2596270.0</td>\n",
       "      <td>2556502.0</td>\n",
       "      <td>2586152.0</td>\n",
       "      <td>2664436.0</td>\n",
       "      <td>3054709.0</td>\n",
       "      <td>1905804.0</td>\n",
       "      <td>1817913.0</td>\n",
       "      <td>1909911.0</td>\n",
       "      <td>2107519.0</td>\n",
       "    </tr>\n",
       "    <tr>\n",
       "      <th>Albania</th>\n",
       "      <td>0.35</td>\n",
       "      <td>10158.0</td>\n",
       "      <td>10103.0</td>\n",
       "      <td>12568.0</td>\n",
       "      <td>13551.0</td>\n",
       "      <td>14772.0</td>\n",
       "      <td>15711.0</td>\n",
       "      <td>15006.0</td>\n",
       "      <td>15340.0</td>\n",
       "      <td>14080.0</td>\n",
       "    </tr>\n",
       "    <tr>\n",
       "      <th>Algeria</th>\n",
       "      <td>0.01</td>\n",
       "      <td>3524.0</td>\n",
       "      <td>3660.0</td>\n",
       "      <td>5673.0</td>\n",
       "      <td>6120.0</td>\n",
       "      <td>6688.0</td>\n",
       "      <td>8184.0</td>\n",
       "      <td>9060.0</td>\n",
       "      <td>10615.0</td>\n",
       "      <td>8353.0</td>\n",
       "    </tr>\n",
       "    <tr>\n",
       "      <th>Andorra</th>\n",
       "      <td>0.01</td>\n",
       "      <td>7.0</td>\n",
       "      <td>5.0</td>\n",
       "      <td>7.0</td>\n",
       "      <td>6.0</td>\n",
       "      <td>6.0</td>\n",
       "      <td>6.0</td>\n",
       "      <td>6.0</td>\n",
       "      <td>9.0</td>\n",
       "      <td>10.0</td>\n",
       "    </tr>\n",
       "    <tr>\n",
       "      <th>Angola</th>\n",
       "      <td>0.04</td>\n",
       "      <td>9484.0</td>\n",
       "      <td>10286.0</td>\n",
       "      <td>19258.0</td>\n",
       "      <td>128664.0</td>\n",
       "      <td>134858.0</td>\n",
       "      <td>141021.0</td>\n",
       "      <td>171393.0</td>\n",
       "      <td>186155.0</td>\n",
       "      <td>206501.0</td>\n",
       "    </tr>\n",
       "  </tbody>\n",
       "</table>\n",
       "</div>"
      ],
      "text/plain": [
       "              Percentage of Population (%)  Fleeing in (2014)  \\\n",
       "Country Name                                                    \n",
       "Afghanistan                           7.59          2596270.0   \n",
       "Albania                               0.35            10158.0   \n",
       "Algeria                               0.01             3524.0   \n",
       "Andorra                               0.01                7.0   \n",
       "Angola                                0.04             9484.0   \n",
       "\n",
       "              Fleeing in (2013)  Fleeing in (2012)  Fleeing in (2011)  \\\n",
       "Country Name                                                            \n",
       "Afghanistan           2556502.0          2586152.0          2664436.0   \n",
       "Albania                 10103.0            12568.0            13551.0   \n",
       "Algeria                  3660.0             5673.0             6120.0   \n",
       "Andorra                     5.0                7.0                6.0   \n",
       "Angola                  10286.0            19258.0           128664.0   \n",
       "\n",
       "              Fleeing in (2010)  Fleeing in (2009)  Fleeing in (2008)  \\\n",
       "Country Name                                                            \n",
       "Afghanistan           3054709.0          1905804.0          1817913.0   \n",
       "Albania                 14772.0            15711.0            15006.0   \n",
       "Algeria                  6688.0             8184.0             9060.0   \n",
       "Andorra                     6.0                6.0                6.0   \n",
       "Angola                 134858.0           141021.0           171393.0   \n",
       "\n",
       "              Fleeing in (2007)  Fleeing in (2006)  \n",
       "Country Name                                        \n",
       "Afghanistan           1909911.0          2107519.0  \n",
       "Albania                 15340.0            14080.0  \n",
       "Algeria                 10615.0             8353.0  \n",
       "Andorra                     9.0               10.0  \n",
       "Angola                 186155.0           206501.0  "
      ]
     },
     "execution_count": 24,
     "metadata": {},
     "output_type": "execute_result"
    }
   ],
   "source": [
    "rbo.head()"
   ]
  },
  {
   "cell_type": "markdown",
   "metadata": {},
   "source": [
    "Introducing a dataset that I have scraped data from https://www.worldometers.info/world-population/population-by-country/ "
   ]
  },
  {
   "cell_type": "code",
   "execution_count": 25,
   "metadata": {
    "scrolled": true
   },
   "outputs": [],
   "source": [
    "wp = pd.read_csv(\"world_population.csv\", encoding = \"utf8\")"
   ]
  },
  {
   "cell_type": "code",
   "execution_count": 26,
   "metadata": {},
   "outputs": [
    {
     "data": {
      "text/html": [
       "<div>\n",
       "<style scoped>\n",
       "    .dataframe tbody tr th:only-of-type {\n",
       "        vertical-align: middle;\n",
       "    }\n",
       "\n",
       "    .dataframe tbody tr th {\n",
       "        vertical-align: top;\n",
       "    }\n",
       "\n",
       "    .dataframe thead th {\n",
       "        text-align: right;\n",
       "    }\n",
       "</style>\n",
       "<table border=\"1\" class=\"dataframe\">\n",
       "  <thead>\n",
       "    <tr style=\"text-align: right;\">\n",
       "      <th></th>\n",
       "      <th>selection1_name</th>\n",
       "      <th>selection1_selection2</th>\n",
       "      <th>selection1_selection3</th>\n",
       "      <th>selection1_selection4</th>\n",
       "      <th>selection1_selection5</th>\n",
       "      <th>selection1_selection6</th>\n",
       "      <th>selection1_selection7</th>\n",
       "      <th>selection1_selection8</th>\n",
       "      <th>selection1_selection9</th>\n",
       "      <th>selection1_selection10</th>\n",
       "      <th>selection1_selection11</th>\n",
       "    </tr>\n",
       "  </thead>\n",
       "  <tbody>\n",
       "    <tr>\n",
       "      <th>0</th>\n",
       "      <td>China</td>\n",
       "      <td>1,439,323,776</td>\n",
       "      <td>0.39 %</td>\n",
       "      <td>5,540,090</td>\n",
       "      <td>153</td>\n",
       "      <td>9,388,211</td>\n",
       "      <td>-348,399</td>\n",
       "      <td>1.7</td>\n",
       "      <td>38</td>\n",
       "      <td>61 %</td>\n",
       "      <td>18.47 %</td>\n",
       "    </tr>\n",
       "    <tr>\n",
       "      <th>1</th>\n",
       "      <td>India</td>\n",
       "      <td>1,380,004,385</td>\n",
       "      <td>0.99 %</td>\n",
       "      <td>13,586,631</td>\n",
       "      <td>464</td>\n",
       "      <td>2,973,190</td>\n",
       "      <td>-532,687</td>\n",
       "      <td>2.2</td>\n",
       "      <td>28</td>\n",
       "      <td>35 %</td>\n",
       "      <td>17.70 %</td>\n",
       "    </tr>\n",
       "    <tr>\n",
       "      <th>2</th>\n",
       "      <td>United States</td>\n",
       "      <td>331,002,651</td>\n",
       "      <td>0.59 %</td>\n",
       "      <td>1,937,734</td>\n",
       "      <td>36</td>\n",
       "      <td>9,147,420</td>\n",
       "      <td>954,806</td>\n",
       "      <td>1.8</td>\n",
       "      <td>38</td>\n",
       "      <td>83 %</td>\n",
       "      <td>4.25 %</td>\n",
       "    </tr>\n",
       "    <tr>\n",
       "      <th>3</th>\n",
       "      <td>Indonesia</td>\n",
       "      <td>273,523,615</td>\n",
       "      <td>1.07 %</td>\n",
       "      <td>2,898,047</td>\n",
       "      <td>151</td>\n",
       "      <td>1,811,570</td>\n",
       "      <td>-98,955</td>\n",
       "      <td>2.3</td>\n",
       "      <td>30</td>\n",
       "      <td>56 %</td>\n",
       "      <td>3.51 %</td>\n",
       "    </tr>\n",
       "    <tr>\n",
       "      <th>4</th>\n",
       "      <td>Pakistan</td>\n",
       "      <td>220,892,340</td>\n",
       "      <td>2.00 %</td>\n",
       "      <td>4,327,022</td>\n",
       "      <td>287</td>\n",
       "      <td>770,880</td>\n",
       "      <td>-233,379</td>\n",
       "      <td>3.6</td>\n",
       "      <td>23</td>\n",
       "      <td>35 %</td>\n",
       "      <td>2.83 %</td>\n",
       "    </tr>\n",
       "  </tbody>\n",
       "</table>\n",
       "</div>"
      ],
      "text/plain": [
       "  selection1_name selection1_selection2 selection1_selection3  \\\n",
       "0           China         1,439,323,776                0.39 %   \n",
       "1           India         1,380,004,385                0.99 %   \n",
       "2   United States           331,002,651                0.59 %   \n",
       "3       Indonesia           273,523,615                1.07 %   \n",
       "4        Pakistan           220,892,340                2.00 %   \n",
       "\n",
       "  selection1_selection4 selection1_selection5 selection1_selection6  \\\n",
       "0             5,540,090                   153             9,388,211   \n",
       "1            13,586,631                   464             2,973,190   \n",
       "2             1,937,734                    36             9,147,420   \n",
       "3             2,898,047                   151             1,811,570   \n",
       "4             4,327,022                   287               770,880   \n",
       "\n",
       "  selection1_selection7 selection1_selection8 selection1_selection9  \\\n",
       "0              -348,399                   1.7                    38   \n",
       "1              -532,687                   2.2                    28   \n",
       "2               954,806                   1.8                    38   \n",
       "3               -98,955                   2.3                    30   \n",
       "4              -233,379                   3.6                    23   \n",
       "\n",
       "  selection1_selection10 selection1_selection11  \n",
       "0                   61 %                18.47 %  \n",
       "1                   35 %                17.70 %  \n",
       "2                   83 %                 4.25 %  \n",
       "3                   56 %                 3.51 %  \n",
       "4                   35 %                 2.83 %  "
      ]
     },
     "execution_count": 26,
     "metadata": {},
     "output_type": "execute_result"
    }
   ],
   "source": [
    "wp.head(5)"
   ]
  },
  {
   "cell_type": "code",
   "execution_count": 27,
   "metadata": {},
   "outputs": [],
   "source": [
    "wp.rename(columns = {\"selection1_name\": \"Country Name\", \n",
    "                     \"selection1_selection2\": \"Population\",\n",
    "                     \"selection1_selection3\": \"Yearly Change (%)\", \n",
    "                     \"selection1_selection4\": \"Net Change\", \n",
    "                     \"selection1_selection5\": \"Density (P/Km²)\", \n",
    "                     \"selection1_selection6\": \"Land Area (Km²)\", \n",
    "                     \"selection1_selection7\": \"Net Migrants\", \n",
    "                     \"selection1_selection8\": \"Fertility Rate\", \n",
    "                     \"selection1_selection9\": \"Median Age\", \n",
    "                     \"selection1_selection10\": \"Urban Population (%)\", \n",
    "                     \"selection1_selection11\": \"World Share\"}, inplace = True)"
   ]
  },
  {
   "cell_type": "code",
   "execution_count": 28,
   "metadata": {
    "scrolled": true
   },
   "outputs": [
    {
     "data": {
      "text/html": [
       "<div>\n",
       "<style scoped>\n",
       "    .dataframe tbody tr th:only-of-type {\n",
       "        vertical-align: middle;\n",
       "    }\n",
       "\n",
       "    .dataframe tbody tr th {\n",
       "        vertical-align: top;\n",
       "    }\n",
       "\n",
       "    .dataframe thead th {\n",
       "        text-align: right;\n",
       "    }\n",
       "</style>\n",
       "<table border=\"1\" class=\"dataframe\">\n",
       "  <thead>\n",
       "    <tr style=\"text-align: right;\">\n",
       "      <th></th>\n",
       "      <th>Country Name</th>\n",
       "      <th>Population</th>\n",
       "      <th>Yearly Change (%)</th>\n",
       "      <th>Net Change</th>\n",
       "      <th>Density (P/Km²)</th>\n",
       "      <th>Land Area (Km²)</th>\n",
       "      <th>Net Migrants</th>\n",
       "      <th>Fertility Rate</th>\n",
       "      <th>Median Age</th>\n",
       "      <th>Urban Population (%)</th>\n",
       "      <th>World Share</th>\n",
       "    </tr>\n",
       "  </thead>\n",
       "  <tbody>\n",
       "    <tr>\n",
       "      <th>0</th>\n",
       "      <td>China</td>\n",
       "      <td>1,439,323,776</td>\n",
       "      <td>0.39 %</td>\n",
       "      <td>5,540,090</td>\n",
       "      <td>153</td>\n",
       "      <td>9,388,211</td>\n",
       "      <td>-348,399</td>\n",
       "      <td>1.7</td>\n",
       "      <td>38</td>\n",
       "      <td>61 %</td>\n",
       "      <td>18.47 %</td>\n",
       "    </tr>\n",
       "    <tr>\n",
       "      <th>1</th>\n",
       "      <td>India</td>\n",
       "      <td>1,380,004,385</td>\n",
       "      <td>0.99 %</td>\n",
       "      <td>13,586,631</td>\n",
       "      <td>464</td>\n",
       "      <td>2,973,190</td>\n",
       "      <td>-532,687</td>\n",
       "      <td>2.2</td>\n",
       "      <td>28</td>\n",
       "      <td>35 %</td>\n",
       "      <td>17.70 %</td>\n",
       "    </tr>\n",
       "    <tr>\n",
       "      <th>2</th>\n",
       "      <td>United States</td>\n",
       "      <td>331,002,651</td>\n",
       "      <td>0.59 %</td>\n",
       "      <td>1,937,734</td>\n",
       "      <td>36</td>\n",
       "      <td>9,147,420</td>\n",
       "      <td>954,806</td>\n",
       "      <td>1.8</td>\n",
       "      <td>38</td>\n",
       "      <td>83 %</td>\n",
       "      <td>4.25 %</td>\n",
       "    </tr>\n",
       "    <tr>\n",
       "      <th>3</th>\n",
       "      <td>Indonesia</td>\n",
       "      <td>273,523,615</td>\n",
       "      <td>1.07 %</td>\n",
       "      <td>2,898,047</td>\n",
       "      <td>151</td>\n",
       "      <td>1,811,570</td>\n",
       "      <td>-98,955</td>\n",
       "      <td>2.3</td>\n",
       "      <td>30</td>\n",
       "      <td>56 %</td>\n",
       "      <td>3.51 %</td>\n",
       "    </tr>\n",
       "    <tr>\n",
       "      <th>4</th>\n",
       "      <td>Pakistan</td>\n",
       "      <td>220,892,340</td>\n",
       "      <td>2.00 %</td>\n",
       "      <td>4,327,022</td>\n",
       "      <td>287</td>\n",
       "      <td>770,880</td>\n",
       "      <td>-233,379</td>\n",
       "      <td>3.6</td>\n",
       "      <td>23</td>\n",
       "      <td>35 %</td>\n",
       "      <td>2.83 %</td>\n",
       "    </tr>\n",
       "  </tbody>\n",
       "</table>\n",
       "</div>"
      ],
      "text/plain": [
       "    Country Name     Population Yearly Change (%)  Net Change Density (P/Km²)  \\\n",
       "0          China  1,439,323,776            0.39 %   5,540,090             153   \n",
       "1          India  1,380,004,385            0.99 %  13,586,631             464   \n",
       "2  United States    331,002,651            0.59 %   1,937,734              36   \n",
       "3      Indonesia    273,523,615            1.07 %   2,898,047             151   \n",
       "4       Pakistan    220,892,340            2.00 %   4,327,022             287   \n",
       "\n",
       "  Land Area (Km²) Net Migrants Fertility Rate Median Age Urban Population (%)  \\\n",
       "0       9,388,211     -348,399            1.7         38                 61 %   \n",
       "1       2,973,190     -532,687            2.2         28                 35 %   \n",
       "2       9,147,420      954,806            1.8         38                 83 %   \n",
       "3       1,811,570      -98,955            2.3         30                 56 %   \n",
       "4         770,880     -233,379            3.6         23                 35 %   \n",
       "\n",
       "  World Share  \n",
       "0     18.47 %  \n",
       "1     17.70 %  \n",
       "2      4.25 %  \n",
       "3      3.51 %  \n",
       "4      2.83 %  "
      ]
     },
     "execution_count": 28,
     "metadata": {},
     "output_type": "execute_result"
    }
   ],
   "source": [
    "wp.head(5)"
   ]
  },
  {
   "cell_type": "code",
   "execution_count": 29,
   "metadata": {},
   "outputs": [
    {
     "name": "stdout",
     "output_type": "stream",
     "text": [
      "Country Name             0\n",
      "Population               0\n",
      "Yearly Change (%)        0\n",
      "Net Change               0\n",
      "Density (P/Km²)          0\n",
      "Land Area (Km²)          0\n",
      "Net Migrants            34\n",
      "Fertility Rate           0\n",
      "Median Age               0\n",
      "Urban Population (%)     0\n",
      "World Share              0\n",
      "dtype: int64\n"
     ]
    }
   ],
   "source": [
    "missing_wp_data = wp.isnull().sum()\n",
    "print(missing_wp_data)"
   ]
  },
  {
   "cell_type": "markdown",
   "metadata": {},
   "source": [
    "N: Some columns are irrelevant to the data I need to answer the questions proposed, these columns will be dropped."
   ]
  },
  {
   "cell_type": "code",
   "execution_count": 30,
   "metadata": {},
   "outputs": [],
   "source": [
    "wp.drop(columns = [\"Fertility Rate\", \"Median Age\", \"World Share\", \"Urban Population (%)\"], inplace = True)"
   ]
  },
  {
   "cell_type": "code",
   "execution_count": 31,
   "metadata": {},
   "outputs": [
    {
     "data": {
      "text/html": [
       "<div>\n",
       "<style scoped>\n",
       "    .dataframe tbody tr th:only-of-type {\n",
       "        vertical-align: middle;\n",
       "    }\n",
       "\n",
       "    .dataframe tbody tr th {\n",
       "        vertical-align: top;\n",
       "    }\n",
       "\n",
       "    .dataframe thead th {\n",
       "        text-align: right;\n",
       "    }\n",
       "</style>\n",
       "<table border=\"1\" class=\"dataframe\">\n",
       "  <thead>\n",
       "    <tr style=\"text-align: right;\">\n",
       "      <th></th>\n",
       "      <th>Country Name</th>\n",
       "      <th>Population</th>\n",
       "      <th>Yearly Change (%)</th>\n",
       "      <th>Net Change</th>\n",
       "      <th>Density (P/Km²)</th>\n",
       "      <th>Land Area (Km²)</th>\n",
       "      <th>Net Migrants</th>\n",
       "    </tr>\n",
       "  </thead>\n",
       "  <tbody>\n",
       "    <tr>\n",
       "      <th>201</th>\n",
       "      <td>Isle of Man</td>\n",
       "      <td>85,033</td>\n",
       "      <td>0.53 %</td>\n",
       "      <td>449</td>\n",
       "      <td>149</td>\n",
       "      <td>570</td>\n",
       "      <td>NaN</td>\n",
       "    </tr>\n",
       "    <tr>\n",
       "      <th>202</th>\n",
       "      <td>Andorra</td>\n",
       "      <td>77,265</td>\n",
       "      <td>0.16 %</td>\n",
       "      <td>123</td>\n",
       "      <td>164</td>\n",
       "      <td>470</td>\n",
       "      <td>NaN</td>\n",
       "    </tr>\n",
       "    <tr>\n",
       "      <th>203</th>\n",
       "      <td>Dominica</td>\n",
       "      <td>71,986</td>\n",
       "      <td>0.25 %</td>\n",
       "      <td>178</td>\n",
       "      <td>96</td>\n",
       "      <td>750</td>\n",
       "      <td>NaN</td>\n",
       "    </tr>\n",
       "    <tr>\n",
       "      <th>204</th>\n",
       "      <td>Cayman Islands</td>\n",
       "      <td>65,722</td>\n",
       "      <td>1.19 %</td>\n",
       "      <td>774</td>\n",
       "      <td>274</td>\n",
       "      <td>240</td>\n",
       "      <td>NaN</td>\n",
       "    </tr>\n",
       "    <tr>\n",
       "      <th>205</th>\n",
       "      <td>Bermuda</td>\n",
       "      <td>62,278</td>\n",
       "      <td>-0.36 %</td>\n",
       "      <td>-228</td>\n",
       "      <td>1,246</td>\n",
       "      <td>50</td>\n",
       "      <td>NaN</td>\n",
       "    </tr>\n",
       "    <tr>\n",
       "      <th>206</th>\n",
       "      <td>Marshall Islands</td>\n",
       "      <td>59,190</td>\n",
       "      <td>0.68 %</td>\n",
       "      <td>399</td>\n",
       "      <td>329</td>\n",
       "      <td>180</td>\n",
       "      <td>NaN</td>\n",
       "    </tr>\n",
       "    <tr>\n",
       "      <th>207</th>\n",
       "      <td>Northern Mariana Islands</td>\n",
       "      <td>57,559</td>\n",
       "      <td>0.60 %</td>\n",
       "      <td>343</td>\n",
       "      <td>125</td>\n",
       "      <td>460</td>\n",
       "      <td>NaN</td>\n",
       "    </tr>\n",
       "    <tr>\n",
       "      <th>208</th>\n",
       "      <td>Greenland</td>\n",
       "      <td>56,770</td>\n",
       "      <td>0.17 %</td>\n",
       "      <td>98</td>\n",
       "      <td>0</td>\n",
       "      <td>410,450</td>\n",
       "      <td>NaN</td>\n",
       "    </tr>\n",
       "    <tr>\n",
       "      <th>209</th>\n",
       "      <td>American Samoa</td>\n",
       "      <td>55,191</td>\n",
       "      <td>-0.22 %</td>\n",
       "      <td>-121</td>\n",
       "      <td>276</td>\n",
       "      <td>200</td>\n",
       "      <td>NaN</td>\n",
       "    </tr>\n",
       "    <tr>\n",
       "      <th>210</th>\n",
       "      <td>Saint Kitts &amp; Nevis</td>\n",
       "      <td>53,199</td>\n",
       "      <td>0.71 %</td>\n",
       "      <td>376</td>\n",
       "      <td>205</td>\n",
       "      <td>260</td>\n",
       "      <td>NaN</td>\n",
       "    </tr>\n",
       "    <tr>\n",
       "      <th>211</th>\n",
       "      <td>Faeroe Islands</td>\n",
       "      <td>48,863</td>\n",
       "      <td>0.38 %</td>\n",
       "      <td>185</td>\n",
       "      <td>35</td>\n",
       "      <td>1,396</td>\n",
       "      <td>NaN</td>\n",
       "    </tr>\n",
       "    <tr>\n",
       "      <th>212</th>\n",
       "      <td>Sint Maarten</td>\n",
       "      <td>42,876</td>\n",
       "      <td>1.15 %</td>\n",
       "      <td>488</td>\n",
       "      <td>1,261</td>\n",
       "      <td>34</td>\n",
       "      <td>NaN</td>\n",
       "    </tr>\n",
       "    <tr>\n",
       "      <th>213</th>\n",
       "      <td>Monaco</td>\n",
       "      <td>39,242</td>\n",
       "      <td>0.71 %</td>\n",
       "      <td>278</td>\n",
       "      <td>26,337</td>\n",
       "      <td>1</td>\n",
       "      <td>NaN</td>\n",
       "    </tr>\n",
       "    <tr>\n",
       "      <th>214</th>\n",
       "      <td>Turks and Caicos</td>\n",
       "      <td>38,717</td>\n",
       "      <td>1.38 %</td>\n",
       "      <td>526</td>\n",
       "      <td>41</td>\n",
       "      <td>950</td>\n",
       "      <td>NaN</td>\n",
       "    </tr>\n",
       "    <tr>\n",
       "      <th>215</th>\n",
       "      <td>Saint Martin</td>\n",
       "      <td>38,666</td>\n",
       "      <td>1.75 %</td>\n",
       "      <td>664</td>\n",
       "      <td>730</td>\n",
       "      <td>53</td>\n",
       "      <td>NaN</td>\n",
       "    </tr>\n",
       "    <tr>\n",
       "      <th>216</th>\n",
       "      <td>Liechtenstein</td>\n",
       "      <td>38,128</td>\n",
       "      <td>0.29 %</td>\n",
       "      <td>109</td>\n",
       "      <td>238</td>\n",
       "      <td>160</td>\n",
       "      <td>NaN</td>\n",
       "    </tr>\n",
       "    <tr>\n",
       "      <th>217</th>\n",
       "      <td>San Marino</td>\n",
       "      <td>33,931</td>\n",
       "      <td>0.21 %</td>\n",
       "      <td>71</td>\n",
       "      <td>566</td>\n",
       "      <td>60</td>\n",
       "      <td>NaN</td>\n",
       "    </tr>\n",
       "    <tr>\n",
       "      <th>218</th>\n",
       "      <td>Gibraltar</td>\n",
       "      <td>33,691</td>\n",
       "      <td>-0.03 %</td>\n",
       "      <td>-10</td>\n",
       "      <td>3,369</td>\n",
       "      <td>10</td>\n",
       "      <td>NaN</td>\n",
       "    </tr>\n",
       "    <tr>\n",
       "      <th>219</th>\n",
       "      <td>British Virgin Islands</td>\n",
       "      <td>30,231</td>\n",
       "      <td>0.67 %</td>\n",
       "      <td>201</td>\n",
       "      <td>202</td>\n",
       "      <td>150</td>\n",
       "      <td>NaN</td>\n",
       "    </tr>\n",
       "    <tr>\n",
       "      <th>220</th>\n",
       "      <td>Caribbean Netherlands</td>\n",
       "      <td>26,223</td>\n",
       "      <td>0.94 %</td>\n",
       "      <td>244</td>\n",
       "      <td>80</td>\n",
       "      <td>328</td>\n",
       "      <td>NaN</td>\n",
       "    </tr>\n",
       "    <tr>\n",
       "      <th>221</th>\n",
       "      <td>Palau</td>\n",
       "      <td>18,094</td>\n",
       "      <td>0.48 %</td>\n",
       "      <td>86</td>\n",
       "      <td>39</td>\n",
       "      <td>460</td>\n",
       "      <td>NaN</td>\n",
       "    </tr>\n",
       "    <tr>\n",
       "      <th>222</th>\n",
       "      <td>Cook Islands</td>\n",
       "      <td>17,564</td>\n",
       "      <td>0.09 %</td>\n",
       "      <td>16</td>\n",
       "      <td>73</td>\n",
       "      <td>240</td>\n",
       "      <td>NaN</td>\n",
       "    </tr>\n",
       "    <tr>\n",
       "      <th>223</th>\n",
       "      <td>Anguilla</td>\n",
       "      <td>15,003</td>\n",
       "      <td>0.90 %</td>\n",
       "      <td>134</td>\n",
       "      <td>167</td>\n",
       "      <td>90</td>\n",
       "      <td>NaN</td>\n",
       "    </tr>\n",
       "    <tr>\n",
       "      <th>224</th>\n",
       "      <td>Tuvalu</td>\n",
       "      <td>11,792</td>\n",
       "      <td>1.25 %</td>\n",
       "      <td>146</td>\n",
       "      <td>393</td>\n",
       "      <td>30</td>\n",
       "      <td>NaN</td>\n",
       "    </tr>\n",
       "    <tr>\n",
       "      <th>225</th>\n",
       "      <td>Wallis &amp; Futuna</td>\n",
       "      <td>11,239</td>\n",
       "      <td>-1.69 %</td>\n",
       "      <td>-193</td>\n",
       "      <td>80</td>\n",
       "      <td>140</td>\n",
       "      <td>NaN</td>\n",
       "    </tr>\n",
       "    <tr>\n",
       "      <th>226</th>\n",
       "      <td>Nauru</td>\n",
       "      <td>10,824</td>\n",
       "      <td>0.63 %</td>\n",
       "      <td>68</td>\n",
       "      <td>541</td>\n",
       "      <td>20</td>\n",
       "      <td>NaN</td>\n",
       "    </tr>\n",
       "    <tr>\n",
       "      <th>227</th>\n",
       "      <td>Saint Barthelemy</td>\n",
       "      <td>9,877</td>\n",
       "      <td>0.30 %</td>\n",
       "      <td>30</td>\n",
       "      <td>470</td>\n",
       "      <td>21</td>\n",
       "      <td>NaN</td>\n",
       "    </tr>\n",
       "    <tr>\n",
       "      <th>228</th>\n",
       "      <td>Saint Helena</td>\n",
       "      <td>6,077</td>\n",
       "      <td>0.30 %</td>\n",
       "      <td>18</td>\n",
       "      <td>16</td>\n",
       "      <td>390</td>\n",
       "      <td>NaN</td>\n",
       "    </tr>\n",
       "    <tr>\n",
       "      <th>229</th>\n",
       "      <td>Saint Pierre &amp; Miquelon</td>\n",
       "      <td>5,794</td>\n",
       "      <td>-0.48 %</td>\n",
       "      <td>-28</td>\n",
       "      <td>25</td>\n",
       "      <td>230</td>\n",
       "      <td>NaN</td>\n",
       "    </tr>\n",
       "    <tr>\n",
       "      <th>230</th>\n",
       "      <td>Montserrat</td>\n",
       "      <td>4,992</td>\n",
       "      <td>0.06 %</td>\n",
       "      <td>3</td>\n",
       "      <td>50</td>\n",
       "      <td>100</td>\n",
       "      <td>NaN</td>\n",
       "    </tr>\n",
       "    <tr>\n",
       "      <th>231</th>\n",
       "      <td>Falkland Islands</td>\n",
       "      <td>3,480</td>\n",
       "      <td>3.05 %</td>\n",
       "      <td>103</td>\n",
       "      <td>0</td>\n",
       "      <td>12,170</td>\n",
       "      <td>NaN</td>\n",
       "    </tr>\n",
       "    <tr>\n",
       "      <th>232</th>\n",
       "      <td>Niue</td>\n",
       "      <td>1,626</td>\n",
       "      <td>0.68 %</td>\n",
       "      <td>11</td>\n",
       "      <td>6</td>\n",
       "      <td>260</td>\n",
       "      <td>NaN</td>\n",
       "    </tr>\n",
       "    <tr>\n",
       "      <th>233</th>\n",
       "      <td>Tokelau</td>\n",
       "      <td>1,357</td>\n",
       "      <td>1.27 %</td>\n",
       "      <td>17</td>\n",
       "      <td>136</td>\n",
       "      <td>10</td>\n",
       "      <td>NaN</td>\n",
       "    </tr>\n",
       "    <tr>\n",
       "      <th>234</th>\n",
       "      <td>Holy See</td>\n",
       "      <td>801</td>\n",
       "      <td>0.25 %</td>\n",
       "      <td>2</td>\n",
       "      <td>2,003</td>\n",
       "      <td>0</td>\n",
       "      <td>NaN</td>\n",
       "    </tr>\n",
       "  </tbody>\n",
       "</table>\n",
       "</div>"
      ],
      "text/plain": [
       "                 Country Name Population Yearly Change (%) Net Change  \\\n",
       "201               Isle of Man     85,033            0.53 %        449   \n",
       "202                   Andorra     77,265            0.16 %        123   \n",
       "203                  Dominica     71,986            0.25 %        178   \n",
       "204            Cayman Islands     65,722            1.19 %        774   \n",
       "205                   Bermuda     62,278           -0.36 %       -228   \n",
       "206          Marshall Islands     59,190            0.68 %        399   \n",
       "207  Northern Mariana Islands     57,559            0.60 %        343   \n",
       "208                 Greenland     56,770            0.17 %         98   \n",
       "209            American Samoa     55,191           -0.22 %       -121   \n",
       "210       Saint Kitts & Nevis     53,199            0.71 %        376   \n",
       "211            Faeroe Islands     48,863            0.38 %        185   \n",
       "212              Sint Maarten     42,876            1.15 %        488   \n",
       "213                    Monaco     39,242            0.71 %        278   \n",
       "214          Turks and Caicos     38,717            1.38 %        526   \n",
       "215              Saint Martin     38,666            1.75 %        664   \n",
       "216             Liechtenstein     38,128            0.29 %        109   \n",
       "217                San Marino     33,931            0.21 %         71   \n",
       "218                 Gibraltar     33,691           -0.03 %        -10   \n",
       "219    British Virgin Islands     30,231            0.67 %        201   \n",
       "220     Caribbean Netherlands     26,223            0.94 %        244   \n",
       "221                     Palau     18,094            0.48 %         86   \n",
       "222              Cook Islands     17,564            0.09 %         16   \n",
       "223                  Anguilla     15,003            0.90 %        134   \n",
       "224                    Tuvalu     11,792            1.25 %        146   \n",
       "225           Wallis & Futuna     11,239           -1.69 %       -193   \n",
       "226                     Nauru     10,824            0.63 %         68   \n",
       "227          Saint Barthelemy      9,877            0.30 %         30   \n",
       "228              Saint Helena      6,077            0.30 %         18   \n",
       "229   Saint Pierre & Miquelon      5,794           -0.48 %        -28   \n",
       "230                Montserrat      4,992            0.06 %          3   \n",
       "231          Falkland Islands      3,480            3.05 %        103   \n",
       "232                      Niue      1,626            0.68 %         11   \n",
       "233                   Tokelau      1,357            1.27 %         17   \n",
       "234                  Holy See        801            0.25 %          2   \n",
       "\n",
       "    Density (P/Km²) Land Area (Km²) Net Migrants  \n",
       "201             149             570          NaN  \n",
       "202             164             470          NaN  \n",
       "203              96             750          NaN  \n",
       "204             274             240          NaN  \n",
       "205           1,246              50          NaN  \n",
       "206             329             180          NaN  \n",
       "207             125             460          NaN  \n",
       "208               0         410,450          NaN  \n",
       "209             276             200          NaN  \n",
       "210             205             260          NaN  \n",
       "211              35           1,396          NaN  \n",
       "212           1,261              34          NaN  \n",
       "213          26,337               1          NaN  \n",
       "214              41             950          NaN  \n",
       "215             730              53          NaN  \n",
       "216             238             160          NaN  \n",
       "217             566              60          NaN  \n",
       "218           3,369              10          NaN  \n",
       "219             202             150          NaN  \n",
       "220              80             328          NaN  \n",
       "221              39             460          NaN  \n",
       "222              73             240          NaN  \n",
       "223             167              90          NaN  \n",
       "224             393              30          NaN  \n",
       "225              80             140          NaN  \n",
       "226             541              20          NaN  \n",
       "227             470              21          NaN  \n",
       "228              16             390          NaN  \n",
       "229              25             230          NaN  \n",
       "230              50             100          NaN  \n",
       "231               0          12,170          NaN  \n",
       "232               6             260          NaN  \n",
       "233             136              10          NaN  \n",
       "234           2,003               0          NaN  "
      ]
     },
     "execution_count": 31,
     "metadata": {},
     "output_type": "execute_result"
    }
   ],
   "source": [
    "wp[wp.isnull().any(axis=1)]"
   ]
  },
  {
   "cell_type": "code",
   "execution_count": 32,
   "metadata": {},
   "outputs": [],
   "source": [
    "wp.dropna(inplace = True)"
   ]
  },
  {
   "cell_type": "code",
   "execution_count": 33,
   "metadata": {},
   "outputs": [
    {
     "data": {
      "text/html": [
       "<div>\n",
       "<style scoped>\n",
       "    .dataframe tbody tr th:only-of-type {\n",
       "        vertical-align: middle;\n",
       "    }\n",
       "\n",
       "    .dataframe tbody tr th {\n",
       "        vertical-align: top;\n",
       "    }\n",
       "\n",
       "    .dataframe thead th {\n",
       "        text-align: right;\n",
       "    }\n",
       "</style>\n",
       "<table border=\"1\" class=\"dataframe\">\n",
       "  <thead>\n",
       "    <tr style=\"text-align: right;\">\n",
       "      <th></th>\n",
       "      <th>Country Name</th>\n",
       "      <th>Population</th>\n",
       "      <th>Yearly Change (%)</th>\n",
       "      <th>Net Change</th>\n",
       "      <th>Density (P/Km²)</th>\n",
       "      <th>Land Area (Km²)</th>\n",
       "      <th>Net Migrants</th>\n",
       "    </tr>\n",
       "  </thead>\n",
       "  <tbody>\n",
       "    <tr>\n",
       "      <th>0</th>\n",
       "      <td>China</td>\n",
       "      <td>1,439,323,776</td>\n",
       "      <td>0.39 %</td>\n",
       "      <td>5,540,090</td>\n",
       "      <td>153</td>\n",
       "      <td>9,388,211</td>\n",
       "      <td>-348,399</td>\n",
       "    </tr>\n",
       "    <tr>\n",
       "      <th>1</th>\n",
       "      <td>India</td>\n",
       "      <td>1,380,004,385</td>\n",
       "      <td>0.99 %</td>\n",
       "      <td>13,586,631</td>\n",
       "      <td>464</td>\n",
       "      <td>2,973,190</td>\n",
       "      <td>-532,687</td>\n",
       "    </tr>\n",
       "    <tr>\n",
       "      <th>2</th>\n",
       "      <td>United States</td>\n",
       "      <td>331,002,651</td>\n",
       "      <td>0.59 %</td>\n",
       "      <td>1,937,734</td>\n",
       "      <td>36</td>\n",
       "      <td>9,147,420</td>\n",
       "      <td>954,806</td>\n",
       "    </tr>\n",
       "    <tr>\n",
       "      <th>3</th>\n",
       "      <td>Indonesia</td>\n",
       "      <td>273,523,615</td>\n",
       "      <td>1.07 %</td>\n",
       "      <td>2,898,047</td>\n",
       "      <td>151</td>\n",
       "      <td>1,811,570</td>\n",
       "      <td>-98,955</td>\n",
       "    </tr>\n",
       "    <tr>\n",
       "      <th>4</th>\n",
       "      <td>Pakistan</td>\n",
       "      <td>220,892,340</td>\n",
       "      <td>2.00 %</td>\n",
       "      <td>4,327,022</td>\n",
       "      <td>287</td>\n",
       "      <td>770,880</td>\n",
       "      <td>-233,379</td>\n",
       "    </tr>\n",
       "  </tbody>\n",
       "</table>\n",
       "</div>"
      ],
      "text/plain": [
       "    Country Name     Population Yearly Change (%)  Net Change Density (P/Km²)  \\\n",
       "0          China  1,439,323,776            0.39 %   5,540,090             153   \n",
       "1          India  1,380,004,385            0.99 %  13,586,631             464   \n",
       "2  United States    331,002,651            0.59 %   1,937,734              36   \n",
       "3      Indonesia    273,523,615            1.07 %   2,898,047             151   \n",
       "4       Pakistan    220,892,340            2.00 %   4,327,022             287   \n",
       "\n",
       "  Land Area (Km²) Net Migrants  \n",
       "0       9,388,211     -348,399  \n",
       "1       2,973,190     -532,687  \n",
       "2       9,147,420      954,806  \n",
       "3       1,811,570      -98,955  \n",
       "4         770,880     -233,379  "
      ]
     },
     "execution_count": 33,
     "metadata": {},
     "output_type": "execute_result"
    }
   ],
   "source": [
    "wp.head(5)"
   ]
  },
  {
   "cell_type": "markdown",
   "metadata": {},
   "source": [
    "E: NET migration is negative when more people are emigrating than immigrating. For example, China has 348,399 more people leaving the country than coming into the country."
   ]
  },
  {
   "cell_type": "code",
   "execution_count": 34,
   "metadata": {},
   "outputs": [
    {
     "data": {
      "text/plain": [
       "Country Name         United Kingdom\n",
       "Population               67,886,011\n",
       "Yearly Change (%)            0.53 %\n",
       "Net Change                  355,839\n",
       "Density (P/Km²)                 281\n",
       "Land Area (Km²)             241,930\n",
       "Net Migrants                260,650\n",
       "Name: 20, dtype: object"
      ]
     },
     "execution_count": 34,
     "metadata": {},
     "output_type": "execute_result"
    }
   ],
   "source": [
    "wp.iloc[20]"
   ]
  },
  {
   "cell_type": "code",
   "execution_count": 35,
   "metadata": {},
   "outputs": [
    {
     "data": {
      "text/plain": [
       "(201, 7)"
      ]
     },
     "execution_count": 35,
     "metadata": {},
     "output_type": "execute_result"
    }
   ],
   "source": [
    "wp.shape"
   ]
  },
  {
   "cell_type": "code",
   "execution_count": 36,
   "metadata": {},
   "outputs": [
    {
     "data": {
      "text/plain": [
       "(141, 12)"
      ]
     },
     "execution_count": 36,
     "metadata": {},
     "output_type": "execute_result"
    }
   ],
   "source": [
    "rpc.shape"
   ]
  },
  {
   "cell_type": "code",
   "execution_count": 37,
   "metadata": {},
   "outputs": [],
   "source": [
    "rpc.rename(columns = {\"country name\": \"Country Name\"}, inplace = True)"
   ]
  },
  {
   "cell_type": "code",
   "execution_count": 38,
   "metadata": {},
   "outputs": [],
   "source": [
    "wp[\"Country Name\"].replace({\"Czech Republic (Czechia)\": \"Czech Republic\"}, inplace = True)\n",
    "wp[\"Country Name\"].replace({\"Côte d'Ivoire\": \"Ivory Coast\"}, inplace = True)\n",
    "rpc[\"Country Name\"].replace({\"Swaziland\": \"Eswatini\"}, inplace = True)\n",
    "wp[\"Country Name\"].replace({\"Congo\": \"Republic of Congo\"}, inplace = True)\n",
    "wp[\"Country Name\"].replace({\"DR Congo\": \"Democratic Republic of Congo\"}, inplace = True)\n",
    "rpc[\"Country Name\"].replace({\"Macedonia\": \"North Macedonia\"}, inplace = True)"
   ]
  },
  {
   "cell_type": "code",
   "execution_count": 39,
   "metadata": {},
   "outputs": [
    {
     "name": "stdout",
     "output_type": "stream",
     "text": [
      "<class 'pandas.core.frame.DataFrame'>\n",
      "Int64Index: 202 entries, 0 to 201\n",
      "Data columns (total 18 columns):\n",
      " #   Column             Non-Null Count  Dtype  \n",
      "---  ------             --------------  -----  \n",
      " 0   Country Name       202 non-null    object \n",
      " 1   Population         201 non-null    object \n",
      " 2   Yearly Change (%)  201 non-null    object \n",
      " 3   Net Change         201 non-null    object \n",
      " 4   Density (P/Km²)    201 non-null    object \n",
      " 5   Land Area (Km²)    201 non-null    object \n",
      " 6   Net Migrants       201 non-null    object \n",
      " 7   Refugees per 1000  141 non-null    float64\n",
      " 8   2016               141 non-null    object \n",
      " 9   2015               141 non-null    object \n",
      " 10  2014               141 non-null    object \n",
      " 11  2013               141 non-null    object \n",
      " 12  2012               141 non-null    object \n",
      " 13  2011               141 non-null    object \n",
      " 14  2010               141 non-null    object \n",
      " 15  2009               141 non-null    object \n",
      " 16  2008               141 non-null    object \n",
      " 17  2007               141 non-null    object \n",
      "dtypes: float64(1), object(17)\n",
      "memory usage: 30.0+ KB\n"
     ]
    }
   ],
   "source": [
    "mergedpop = pd.merge(wp, rpc, on = \"Country Name\", how = \"outer\")\n",
    "mergedpop.info()"
   ]
  },
  {
   "cell_type": "code",
   "execution_count": 40,
   "metadata": {
    "scrolled": false
   },
   "outputs": [
    {
     "data": {
      "text/html": [
       "<div>\n",
       "<style scoped>\n",
       "    .dataframe tbody tr th:only-of-type {\n",
       "        vertical-align: middle;\n",
       "    }\n",
       "\n",
       "    .dataframe tbody tr th {\n",
       "        vertical-align: top;\n",
       "    }\n",
       "\n",
       "    .dataframe thead th {\n",
       "        text-align: right;\n",
       "    }\n",
       "</style>\n",
       "<table border=\"1\" class=\"dataframe\">\n",
       "  <thead>\n",
       "    <tr style=\"text-align: right;\">\n",
       "      <th></th>\n",
       "      <th>Country Name</th>\n",
       "      <th>Population</th>\n",
       "      <th>Yearly Change (%)</th>\n",
       "      <th>Net Change</th>\n",
       "      <th>Density (P/Km²)</th>\n",
       "      <th>Land Area (Km²)</th>\n",
       "      <th>Net Migrants</th>\n",
       "      <th>Refugees per 1000</th>\n",
       "      <th>2016</th>\n",
       "      <th>2015</th>\n",
       "      <th>2014</th>\n",
       "      <th>2013</th>\n",
       "      <th>2012</th>\n",
       "      <th>2011</th>\n",
       "      <th>2010</th>\n",
       "      <th>2009</th>\n",
       "      <th>2008</th>\n",
       "      <th>2007</th>\n",
       "    </tr>\n",
       "  </thead>\n",
       "  <tbody>\n",
       "    <tr>\n",
       "      <th>197</th>\n",
       "      <td>Tonga</td>\n",
       "      <td>105,695</td>\n",
       "      <td>1.15 %</td>\n",
       "      <td>1,201</td>\n",
       "      <td>147</td>\n",
       "      <td>720</td>\n",
       "      <td>-800</td>\n",
       "      <td>NaN</td>\n",
       "      <td>NaN</td>\n",
       "      <td>NaN</td>\n",
       "      <td>NaN</td>\n",
       "      <td>NaN</td>\n",
       "      <td>NaN</td>\n",
       "      <td>NaN</td>\n",
       "      <td>NaN</td>\n",
       "      <td>NaN</td>\n",
       "      <td>NaN</td>\n",
       "      <td>NaN</td>\n",
       "    </tr>\n",
       "    <tr>\n",
       "      <th>198</th>\n",
       "      <td>U.S. Virgin Islands</td>\n",
       "      <td>104,425</td>\n",
       "      <td>-0.15 %</td>\n",
       "      <td>-153</td>\n",
       "      <td>298</td>\n",
       "      <td>350</td>\n",
       "      <td>-451</td>\n",
       "      <td>NaN</td>\n",
       "      <td>NaN</td>\n",
       "      <td>NaN</td>\n",
       "      <td>NaN</td>\n",
       "      <td>NaN</td>\n",
       "      <td>NaN</td>\n",
       "      <td>NaN</td>\n",
       "      <td>NaN</td>\n",
       "      <td>NaN</td>\n",
       "      <td>NaN</td>\n",
       "      <td>NaN</td>\n",
       "    </tr>\n",
       "    <tr>\n",
       "      <th>199</th>\n",
       "      <td>Seychelles</td>\n",
       "      <td>98,347</td>\n",
       "      <td>0.62 %</td>\n",
       "      <td>608</td>\n",
       "      <td>214</td>\n",
       "      <td>460</td>\n",
       "      <td>-200</td>\n",
       "      <td>NaN</td>\n",
       "      <td>NaN</td>\n",
       "      <td>NaN</td>\n",
       "      <td>NaN</td>\n",
       "      <td>NaN</td>\n",
       "      <td>NaN</td>\n",
       "      <td>NaN</td>\n",
       "      <td>NaN</td>\n",
       "      <td>NaN</td>\n",
       "      <td>NaN</td>\n",
       "      <td>NaN</td>\n",
       "    </tr>\n",
       "    <tr>\n",
       "      <th>200</th>\n",
       "      <td>Antigua and Barbuda</td>\n",
       "      <td>97,929</td>\n",
       "      <td>0.84 %</td>\n",
       "      <td>811</td>\n",
       "      <td>223</td>\n",
       "      <td>440</td>\n",
       "      <td>0</td>\n",
       "      <td>NaN</td>\n",
       "      <td>NaN</td>\n",
       "      <td>NaN</td>\n",
       "      <td>NaN</td>\n",
       "      <td>NaN</td>\n",
       "      <td>NaN</td>\n",
       "      <td>NaN</td>\n",
       "      <td>NaN</td>\n",
       "      <td>NaN</td>\n",
       "      <td>NaN</td>\n",
       "      <td>NaN</td>\n",
       "    </tr>\n",
       "    <tr>\n",
       "      <th>201</th>\n",
       "      <td>Liechtenstein</td>\n",
       "      <td>NaN</td>\n",
       "      <td>NaN</td>\n",
       "      <td>NaN</td>\n",
       "      <td>NaN</td>\n",
       "      <td>NaN</td>\n",
       "      <td>NaN</td>\n",
       "      <td>2.89</td>\n",
       "      <td>163</td>\n",
       "      <td>107</td>\n",
       "      <td>103</td>\n",
       "      <td>97</td>\n",
       "      <td>102</td>\n",
       "      <td>94</td>\n",
       "      <td>92</td>\n",
       "      <td>91</td>\n",
       "      <td>89</td>\n",
       "      <td>283</td>\n",
       "    </tr>\n",
       "  </tbody>\n",
       "</table>\n",
       "</div>"
      ],
      "text/plain": [
       "            Country Name Population Yearly Change (%) Net Change  \\\n",
       "197                Tonga    105,695            1.15 %      1,201   \n",
       "198  U.S. Virgin Islands    104,425           -0.15 %       -153   \n",
       "199           Seychelles     98,347            0.62 %        608   \n",
       "200  Antigua and Barbuda     97,929            0.84 %        811   \n",
       "201        Liechtenstein        NaN               NaN        NaN   \n",
       "\n",
       "    Density (P/Km²) Land Area (Km²) Net Migrants  Refugees per 1000 2016 2015  \\\n",
       "197             147             720         -800                NaN  NaN  NaN   \n",
       "198             298             350         -451                NaN  NaN  NaN   \n",
       "199             214             460         -200                NaN  NaN  NaN   \n",
       "200             223             440            0                NaN  NaN  NaN   \n",
       "201             NaN             NaN          NaN               2.89  163  107   \n",
       "\n",
       "    2014 2013 2012 2011 2010 2009 2008 2007  \n",
       "197  NaN  NaN  NaN  NaN  NaN  NaN  NaN  NaN  \n",
       "198  NaN  NaN  NaN  NaN  NaN  NaN  NaN  NaN  \n",
       "199  NaN  NaN  NaN  NaN  NaN  NaN  NaN  NaN  \n",
       "200  NaN  NaN  NaN  NaN  NaN  NaN  NaN  NaN  \n",
       "201  103   97  102   94   92   91   89  283  "
      ]
     },
     "execution_count": 40,
     "metadata": {},
     "output_type": "execute_result"
    }
   ],
   "source": [
    "mergedpop.tail(5)"
   ]
  },
  {
   "cell_type": "code",
   "execution_count": 41,
   "metadata": {},
   "outputs": [],
   "source": [
    "mergedpop.dropna(inplace = True)"
   ]
  },
  {
   "cell_type": "code",
   "execution_count": 42,
   "metadata": {},
   "outputs": [
    {
     "data": {
      "text/html": [
       "<div>\n",
       "<style scoped>\n",
       "    .dataframe tbody tr th:only-of-type {\n",
       "        vertical-align: middle;\n",
       "    }\n",
       "\n",
       "    .dataframe tbody tr th {\n",
       "        vertical-align: top;\n",
       "    }\n",
       "\n",
       "    .dataframe thead th {\n",
       "        text-align: right;\n",
       "    }\n",
       "</style>\n",
       "<table border=\"1\" class=\"dataframe\">\n",
       "  <thead>\n",
       "    <tr style=\"text-align: right;\">\n",
       "      <th></th>\n",
       "      <th>Country Name</th>\n",
       "      <th>Population</th>\n",
       "      <th>Yearly Change (%)</th>\n",
       "      <th>Net Change</th>\n",
       "      <th>Density (P/Km²)</th>\n",
       "      <th>Land Area (Km²)</th>\n",
       "      <th>Net Migrants</th>\n",
       "      <th>Refugees per 1000</th>\n",
       "      <th>2016</th>\n",
       "      <th>2015</th>\n",
       "      <th>2014</th>\n",
       "      <th>2013</th>\n",
       "      <th>2012</th>\n",
       "      <th>2011</th>\n",
       "      <th>2010</th>\n",
       "      <th>2009</th>\n",
       "      <th>2008</th>\n",
       "      <th>2007</th>\n",
       "    </tr>\n",
       "  </thead>\n",
       "  <tbody>\n",
       "    <tr>\n",
       "      <th>159</th>\n",
       "      <td>Djibouti</td>\n",
       "      <td>988,000</td>\n",
       "      <td>1.48 %</td>\n",
       "      <td>14,440</td>\n",
       "      <td>43</td>\n",
       "      <td>23,180</td>\n",
       "      <td>900</td>\n",
       "      <td>16.88</td>\n",
       "      <td>17,683</td>\n",
       "      <td>14,787</td>\n",
       "      <td>20,530</td>\n",
       "      <td>20,015</td>\n",
       "      <td>19,139</td>\n",
       "      <td>20,340</td>\n",
       "      <td>15,104</td>\n",
       "      <td>12,111</td>\n",
       "      <td>9,228</td>\n",
       "      <td>6,651</td>\n",
       "    </tr>\n",
       "    <tr>\n",
       "      <th>167</th>\n",
       "      <td>Montenegro</td>\n",
       "      <td>628,066</td>\n",
       "      <td>0.01 %</td>\n",
       "      <td>79</td>\n",
       "      <td>47</td>\n",
       "      <td>13,450</td>\n",
       "      <td>-480</td>\n",
       "      <td>9.92</td>\n",
       "      <td>974</td>\n",
       "      <td>6,203</td>\n",
       "      <td>6,462</td>\n",
       "      <td>8,476</td>\n",
       "      <td>11,198</td>\n",
       "      <td>12,874</td>\n",
       "      <td>16,364</td>\n",
       "      <td>24,019</td>\n",
       "      <td>24,741</td>\n",
       "      <td>8,528</td>\n",
       "    </tr>\n",
       "    <tr>\n",
       "      <th>168</th>\n",
       "      <td>Luxembourg</td>\n",
       "      <td>625,978</td>\n",
       "      <td>1.66 %</td>\n",
       "      <td>10,249</td>\n",
       "      <td>242</td>\n",
       "      <td>2,590</td>\n",
       "      <td>9,741</td>\n",
       "      <td>2.14</td>\n",
       "      <td>2,046</td>\n",
       "      <td>1,192</td>\n",
       "      <td>1,108</td>\n",
       "      <td>920</td>\n",
       "      <td>2,910</td>\n",
       "      <td>2,855</td>\n",
       "      <td>3,254</td>\n",
       "      <td>3,230</td>\n",
       "      <td>3,109</td>\n",
       "      <td>2,737</td>\n",
       "    </tr>\n",
       "    <tr>\n",
       "      <th>173</th>\n",
       "      <td>Malta</td>\n",
       "      <td>441,543</td>\n",
       "      <td>0.27 %</td>\n",
       "      <td>1,171</td>\n",
       "      <td>1,380</td>\n",
       "      <td>320</td>\n",
       "      <td>900</td>\n",
       "      <td>14.58</td>\n",
       "      <td>7,948</td>\n",
       "      <td>6,095</td>\n",
       "      <td>6,095</td>\n",
       "      <td>9,906</td>\n",
       "      <td>8,248</td>\n",
       "      <td>6,952</td>\n",
       "      <td>6,136</td>\n",
       "      <td>5,955</td>\n",
       "      <td>4,331</td>\n",
       "      <td>3,000</td>\n",
       "    </tr>\n",
       "    <tr>\n",
       "      <th>179</th>\n",
       "      <td>Iceland</td>\n",
       "      <td>341,243</td>\n",
       "      <td>0.65 %</td>\n",
       "      <td>2,212</td>\n",
       "      <td>3</td>\n",
       "      <td>100,250</td>\n",
       "      <td>380</td>\n",
       "      <td>0.32</td>\n",
       "      <td>252</td>\n",
       "      <td>104</td>\n",
       "      <td>99</td>\n",
       "      <td>79</td>\n",
       "      <td>60</td>\n",
       "      <td>58</td>\n",
       "      <td>83</td>\n",
       "      <td>62</td>\n",
       "      <td>49</td>\n",
       "      <td>49</td>\n",
       "    </tr>\n",
       "  </tbody>\n",
       "</table>\n",
       "</div>"
      ],
      "text/plain": [
       "    Country Name Population Yearly Change (%) Net Change Density (P/Km²)  \\\n",
       "159     Djibouti    988,000            1.48 %     14,440              43   \n",
       "167   Montenegro    628,066            0.01 %         79              47   \n",
       "168   Luxembourg    625,978            1.66 %     10,249             242   \n",
       "173        Malta    441,543            0.27 %      1,171           1,380   \n",
       "179      Iceland    341,243            0.65 %      2,212               3   \n",
       "\n",
       "    Land Area (Km²) Net Migrants  Refugees per 1000    2016    2015    2014  \\\n",
       "159          23,180          900              16.88  17,683  14,787  20,530   \n",
       "167          13,450         -480               9.92     974   6,203   6,462   \n",
       "168           2,590        9,741               2.14   2,046   1,192   1,108   \n",
       "173             320          900              14.58   7,948   6,095   6,095   \n",
       "179         100,250          380               0.32     252     104      99   \n",
       "\n",
       "       2013    2012    2011    2010    2009    2008   2007  \n",
       "159  20,015  19,139  20,340  15,104  12,111   9,228  6,651  \n",
       "167   8,476  11,198  12,874  16,364  24,019  24,741  8,528  \n",
       "168     920   2,910   2,855   3,254   3,230   3,109  2,737  \n",
       "173   9,906   8,248   6,952   6,136   5,955   4,331  3,000  \n",
       "179      79      60      58      83      62      49     49  "
      ]
     },
     "execution_count": 42,
     "metadata": {},
     "output_type": "execute_result"
    }
   ],
   "source": [
    "mergedpop.tail(5)"
   ]
  },
  {
   "cell_type": "code",
   "execution_count": 43,
   "metadata": {},
   "outputs": [],
   "source": [
    "mergedpop.set_index(\"Country Name\", inplace = True)"
   ]
  },
  {
   "cell_type": "code",
   "execution_count": 44,
   "metadata": {},
   "outputs": [
    {
     "data": {
      "text/html": [
       "<div>\n",
       "<style scoped>\n",
       "    .dataframe tbody tr th:only-of-type {\n",
       "        vertical-align: middle;\n",
       "    }\n",
       "\n",
       "    .dataframe tbody tr th {\n",
       "        vertical-align: top;\n",
       "    }\n",
       "\n",
       "    .dataframe thead th {\n",
       "        text-align: right;\n",
       "    }\n",
       "</style>\n",
       "<table border=\"1\" class=\"dataframe\">\n",
       "  <thead>\n",
       "    <tr style=\"text-align: right;\">\n",
       "      <th></th>\n",
       "      <th>Population</th>\n",
       "      <th>Yearly Change (%)</th>\n",
       "      <th>Net Change</th>\n",
       "      <th>Density (P/Km²)</th>\n",
       "      <th>Land Area (Km²)</th>\n",
       "      <th>Net Migrants</th>\n",
       "      <th>Refugees per 1000</th>\n",
       "      <th>2016</th>\n",
       "      <th>2015</th>\n",
       "      <th>2014</th>\n",
       "      <th>2013</th>\n",
       "      <th>2012</th>\n",
       "      <th>2011</th>\n",
       "      <th>2010</th>\n",
       "      <th>2009</th>\n",
       "      <th>2008</th>\n",
       "      <th>2007</th>\n",
       "    </tr>\n",
       "    <tr>\n",
       "      <th>Country Name</th>\n",
       "      <th></th>\n",
       "      <th></th>\n",
       "      <th></th>\n",
       "      <th></th>\n",
       "      <th></th>\n",
       "      <th></th>\n",
       "      <th></th>\n",
       "      <th></th>\n",
       "      <th></th>\n",
       "      <th></th>\n",
       "      <th></th>\n",
       "      <th></th>\n",
       "      <th></th>\n",
       "      <th></th>\n",
       "      <th></th>\n",
       "      <th></th>\n",
       "      <th></th>\n",
       "    </tr>\n",
       "  </thead>\n",
       "  <tbody>\n",
       "    <tr>\n",
       "      <th>Afghanistan</th>\n",
       "      <td>38,928,346</td>\n",
       "      <td>2.33 %</td>\n",
       "      <td>886,592</td>\n",
       "      <td>60</td>\n",
       "      <td>652,860</td>\n",
       "      <td>-62,920</td>\n",
       "      <td>7.14</td>\n",
       "      <td>59,771</td>\n",
       "      <td>205,558</td>\n",
       "      <td>280,267</td>\n",
       "      <td>72</td>\n",
       "      <td>75</td>\n",
       "      <td>66</td>\n",
       "      <td>43</td>\n",
       "      <td>37</td>\n",
       "      <td>37</td>\n",
       "      <td>42</td>\n",
       "    </tr>\n",
       "    <tr>\n",
       "      <th>Albania</th>\n",
       "      <td>2,877,797</td>\n",
       "      <td>-0.11 %</td>\n",
       "      <td>-3,120</td>\n",
       "      <td>105</td>\n",
       "      <td>27,400</td>\n",
       "      <td>-14,000</td>\n",
       "      <td>0.05</td>\n",
       "      <td>138</td>\n",
       "      <td>154</td>\n",
       "      <td>104</td>\n",
       "      <td>96</td>\n",
       "      <td>86</td>\n",
       "      <td>82</td>\n",
       "      <td>76</td>\n",
       "      <td>70</td>\n",
       "      <td>65</td>\n",
       "      <td>77</td>\n",
       "    </tr>\n",
       "    <tr>\n",
       "      <th>Algeria</th>\n",
       "      <td>43,851,044</td>\n",
       "      <td>1.85 %</td>\n",
       "      <td>797,990</td>\n",
       "      <td>18</td>\n",
       "      <td>2,381,740</td>\n",
       "      <td>-10,000</td>\n",
       "      <td>2.42</td>\n",
       "      <td>94,232</td>\n",
       "      <td>94,144</td>\n",
       "      <td>94,128</td>\n",
       "      <td>94,150</td>\n",
       "      <td>94,133</td>\n",
       "      <td>94,148</td>\n",
       "      <td>94,144</td>\n",
       "      <td>94,137</td>\n",
       "      <td>94,093</td>\n",
       "      <td>94,137</td>\n",
       "    </tr>\n",
       "    <tr>\n",
       "      <th>Angola</th>\n",
       "      <td>32,866,272</td>\n",
       "      <td>3.27 %</td>\n",
       "      <td>1,040,977</td>\n",
       "      <td>26</td>\n",
       "      <td>1,246,700</td>\n",
       "      <td>6,413</td>\n",
       "      <td>0.64</td>\n",
       "      <td>15,555</td>\n",
       "      <td>15,572</td>\n",
       "      <td>15,474</td>\n",
       "      <td>23,783</td>\n",
       "      <td>23,413</td>\n",
       "      <td>16,223</td>\n",
       "      <td>15,155</td>\n",
       "      <td>14,734</td>\n",
       "      <td>12,710</td>\n",
       "      <td>12,069</td>\n",
       "    </tr>\n",
       "    <tr>\n",
       "      <th>Argentina</th>\n",
       "      <td>45,195,774</td>\n",
       "      <td>0.93 %</td>\n",
       "      <td>415,097</td>\n",
       "      <td>17</td>\n",
       "      <td>2,736,690</td>\n",
       "      <td>4,800</td>\n",
       "      <td>0.08</td>\n",
       "      <td>3,293</td>\n",
       "      <td>3,523</td>\n",
       "      <td>3,498</td>\n",
       "      <td>3,362</td>\n",
       "      <td>3,488</td>\n",
       "      <td>3,361</td>\n",
       "      <td>3,276</td>\n",
       "      <td>3,230</td>\n",
       "      <td>2,845</td>\n",
       "      <td>3,263</td>\n",
       "    </tr>\n",
       "    <tr>\n",
       "      <th>...</th>\n",
       "      <td>...</td>\n",
       "      <td>...</td>\n",
       "      <td>...</td>\n",
       "      <td>...</td>\n",
       "      <td>...</td>\n",
       "      <td>...</td>\n",
       "      <td>...</td>\n",
       "      <td>...</td>\n",
       "      <td>...</td>\n",
       "      <td>...</td>\n",
       "      <td>...</td>\n",
       "      <td>...</td>\n",
       "      <td>...</td>\n",
       "      <td>...</td>\n",
       "      <td>...</td>\n",
       "      <td>...</td>\n",
       "      <td>...</td>\n",
       "    </tr>\n",
       "    <tr>\n",
       "      <th>Uruguay</th>\n",
       "      <td>3,473,730</td>\n",
       "      <td>0.35 %</td>\n",
       "      <td>11,996</td>\n",
       "      <td>20</td>\n",
       "      <td>175,020</td>\n",
       "      <td>-3,000</td>\n",
       "      <td>0.08</td>\n",
       "      <td>312</td>\n",
       "      <td>289</td>\n",
       "      <td>272</td>\n",
       "      <td>203</td>\n",
       "      <td>181</td>\n",
       "      <td>174</td>\n",
       "      <td>189</td>\n",
       "      <td>168</td>\n",
       "      <td>145</td>\n",
       "      <td>140</td>\n",
       "    </tr>\n",
       "    <tr>\n",
       "      <th>Venezuela</th>\n",
       "      <td>28,435,940</td>\n",
       "      <td>-0.28 %</td>\n",
       "      <td>-79,889</td>\n",
       "      <td>32</td>\n",
       "      <td>882,050</td>\n",
       "      <td>-653,249</td>\n",
       "      <td>5.68</td>\n",
       "      <td>7,861</td>\n",
       "      <td>5,647</td>\n",
       "      <td>5,052</td>\n",
       "      <td>4,340</td>\n",
       "      <td>3,644</td>\n",
       "      <td>2,022</td>\n",
       "      <td>1,547</td>\n",
       "      <td>1,313</td>\n",
       "      <td>1,161</td>\n",
       "      <td>907</td>\n",
       "    </tr>\n",
       "    <tr>\n",
       "      <th>Yemen</th>\n",
       "      <td>29,825,964</td>\n",
       "      <td>2.28 %</td>\n",
       "      <td>664,042</td>\n",
       "      <td>56</td>\n",
       "      <td>527,970</td>\n",
       "      <td>-30,000</td>\n",
       "      <td>10.05</td>\n",
       "      <td>269,783</td>\n",
       "      <td>263,047</td>\n",
       "      <td>257,645</td>\n",
       "      <td>241,288</td>\n",
       "      <td>237,182</td>\n",
       "      <td>214,740</td>\n",
       "      <td>190,092</td>\n",
       "      <td>170,854</td>\n",
       "      <td>140,169</td>\n",
       "      <td>117,363</td>\n",
       "    </tr>\n",
       "    <tr>\n",
       "      <th>Zambia</th>\n",
       "      <td>18,383,955</td>\n",
       "      <td>2.93 %</td>\n",
       "      <td>522,925</td>\n",
       "      <td>25</td>\n",
       "      <td>743,390</td>\n",
       "      <td>-8,000</td>\n",
       "      <td>1.64</td>\n",
       "      <td>29,350</td>\n",
       "      <td>25,737</td>\n",
       "      <td>25,578</td>\n",
       "      <td>23,594</td>\n",
       "      <td>25,653</td>\n",
       "      <td>45,632</td>\n",
       "      <td>47,857</td>\n",
       "      <td>56,785</td>\n",
       "      <td>83,485</td>\n",
       "      <td>112,931</td>\n",
       "    </tr>\n",
       "    <tr>\n",
       "      <th>Zimbabwe</th>\n",
       "      <td>14,862,924</td>\n",
       "      <td>1.48 %</td>\n",
       "      <td>217,456</td>\n",
       "      <td>38</td>\n",
       "      <td>386,850</td>\n",
       "      <td>-116,858</td>\n",
       "      <td>0.40</td>\n",
       "      <td>7,426</td>\n",
       "      <td>6,085</td>\n",
       "      <td>6,079</td>\n",
       "      <td>6,389</td>\n",
       "      <td>4,356</td>\n",
       "      <td>4,561</td>\n",
       "      <td>4,435</td>\n",
       "      <td>3,995</td>\n",
       "      <td>3,468</td>\n",
       "      <td>3,981</td>\n",
       "    </tr>\n",
       "  </tbody>\n",
       "</table>\n",
       "<p>140 rows × 17 columns</p>\n",
       "</div>"
      ],
      "text/plain": [
       "              Population Yearly Change (%) Net Change Density (P/Km²)  \\\n",
       "Country Name                                                            \n",
       "Afghanistan   38,928,346            2.33 %    886,592              60   \n",
       "Albania        2,877,797           -0.11 %     -3,120             105   \n",
       "Algeria       43,851,044            1.85 %    797,990              18   \n",
       "Angola        32,866,272            3.27 %  1,040,977              26   \n",
       "Argentina     45,195,774            0.93 %    415,097              17   \n",
       "...                  ...               ...        ...             ...   \n",
       "Uruguay        3,473,730            0.35 %     11,996              20   \n",
       "Venezuela     28,435,940           -0.28 %    -79,889              32   \n",
       "Yemen         29,825,964            2.28 %    664,042              56   \n",
       "Zambia        18,383,955            2.93 %    522,925              25   \n",
       "Zimbabwe      14,862,924            1.48 %    217,456              38   \n",
       "\n",
       "             Land Area (Km²) Net Migrants  Refugees per 1000     2016  \\\n",
       "Country Name                                                            \n",
       "Afghanistan          652,860      -62,920               7.14   59,771   \n",
       "Albania               27,400      -14,000               0.05      138   \n",
       "Algeria            2,381,740      -10,000               2.42   94,232   \n",
       "Angola             1,246,700        6,413               0.64   15,555   \n",
       "Argentina          2,736,690        4,800               0.08    3,293   \n",
       "...                      ...          ...                ...      ...   \n",
       "Uruguay              175,020       -3,000               0.08      312   \n",
       "Venezuela            882,050     -653,249               5.68    7,861   \n",
       "Yemen                527,970      -30,000              10.05  269,783   \n",
       "Zambia               743,390       -8,000               1.64   29,350   \n",
       "Zimbabwe             386,850     -116,858               0.40    7,426   \n",
       "\n",
       "                 2015     2014     2013     2012     2011     2010     2009  \\\n",
       "Country Name                                                                  \n",
       "Afghanistan   205,558  280,267       72       75       66       43       37   \n",
       "Albania           154      104       96       86       82       76       70   \n",
       "Algeria        94,144   94,128   94,150   94,133   94,148   94,144   94,137   \n",
       "Angola         15,572   15,474   23,783   23,413   16,223   15,155   14,734   \n",
       "Argentina       3,523    3,498    3,362    3,488    3,361    3,276    3,230   \n",
       "...               ...      ...      ...      ...      ...      ...      ...   \n",
       "Uruguay           289      272      203      181      174      189      168   \n",
       "Venezuela       5,647    5,052    4,340    3,644    2,022    1,547    1,313   \n",
       "Yemen         263,047  257,645  241,288  237,182  214,740  190,092  170,854   \n",
       "Zambia         25,737   25,578   23,594   25,653   45,632   47,857   56,785   \n",
       "Zimbabwe        6,085    6,079    6,389    4,356    4,561    4,435    3,995   \n",
       "\n",
       "                 2008     2007  \n",
       "Country Name                    \n",
       "Afghanistan        37       42  \n",
       "Albania            65       77  \n",
       "Algeria        94,093   94,137  \n",
       "Angola         12,710   12,069  \n",
       "Argentina       2,845    3,263  \n",
       "...               ...      ...  \n",
       "Uruguay           145      140  \n",
       "Venezuela       1,161      907  \n",
       "Yemen         140,169  117,363  \n",
       "Zambia         83,485  112,931  \n",
       "Zimbabwe        3,468    3,981  \n",
       "\n",
       "[140 rows x 17 columns]"
      ]
     },
     "execution_count": 44,
     "metadata": {},
     "output_type": "execute_result"
    }
   ],
   "source": [
    "mergedpop.sort_index(ascending = True)"
   ]
  },
  {
   "cell_type": "code",
   "execution_count": 45,
   "metadata": {},
   "outputs": [],
   "source": [
    "mergedpop.rename(columns = {\"2016\": \"Refugees in (2016)\", \n",
    "                     \"2015\": \"Refugees in (2015)\",\n",
    "                     \"2014\": \"Refugees in (2014)\", \n",
    "                     \"2013\": \"Refugees in (2013)\", \n",
    "                     \"2012\": \"Refugees in (2012)\", \n",
    "                     \"2011\": \"Refugees in (2011)\", \n",
    "                     \"2010\": \"Refugees in (2010)\", \n",
    "                     \"2009\": \"Refugees in (2009)\", \n",
    "                     \"2008\": \"Refugees in (2008)\", \n",
    "                     \"2007\": \"Refugees in (2007)\"}, inplace = True)"
   ]
  },
  {
   "cell_type": "markdown",
   "metadata": {},
   "source": [
    "N: I have merged the refugees per country data with the population dataset."
   ]
  },
  {
   "cell_type": "code",
   "execution_count": 46,
   "metadata": {},
   "outputs": [
    {
     "data": {
      "text/html": [
       "<div>\n",
       "<style scoped>\n",
       "    .dataframe tbody tr th:only-of-type {\n",
       "        vertical-align: middle;\n",
       "    }\n",
       "\n",
       "    .dataframe tbody tr th {\n",
       "        vertical-align: top;\n",
       "    }\n",
       "\n",
       "    .dataframe thead th {\n",
       "        text-align: right;\n",
       "    }\n",
       "</style>\n",
       "<table border=\"1\" class=\"dataframe\">\n",
       "  <thead>\n",
       "    <tr style=\"text-align: right;\">\n",
       "      <th></th>\n",
       "      <th>Population</th>\n",
       "      <th>Yearly Change (%)</th>\n",
       "      <th>Net Change</th>\n",
       "      <th>Density (P/Km²)</th>\n",
       "      <th>Land Area (Km²)</th>\n",
       "      <th>Net Migrants</th>\n",
       "      <th>Refugees per 1000</th>\n",
       "      <th>Refugees in (2016)</th>\n",
       "      <th>Refugees in (2015)</th>\n",
       "      <th>Refugees in (2014)</th>\n",
       "      <th>Refugees in (2013)</th>\n",
       "      <th>Refugees in (2012)</th>\n",
       "      <th>Refugees in (2011)</th>\n",
       "      <th>Refugees in (2010)</th>\n",
       "      <th>Refugees in (2009)</th>\n",
       "      <th>Refugees in (2008)</th>\n",
       "      <th>Refugees in (2007)</th>\n",
       "    </tr>\n",
       "    <tr>\n",
       "      <th>Country Name</th>\n",
       "      <th></th>\n",
       "      <th></th>\n",
       "      <th></th>\n",
       "      <th></th>\n",
       "      <th></th>\n",
       "      <th></th>\n",
       "      <th></th>\n",
       "      <th></th>\n",
       "      <th></th>\n",
       "      <th></th>\n",
       "      <th></th>\n",
       "      <th></th>\n",
       "      <th></th>\n",
       "      <th></th>\n",
       "      <th></th>\n",
       "      <th></th>\n",
       "      <th></th>\n",
       "    </tr>\n",
       "  </thead>\n",
       "  <tbody>\n",
       "    <tr>\n",
       "      <th>China</th>\n",
       "      <td>1,439,323,776</td>\n",
       "      <td>0.39 %</td>\n",
       "      <td>5,540,090</td>\n",
       "      <td>153</td>\n",
       "      <td>9,388,211</td>\n",
       "      <td>-348,399</td>\n",
       "      <td>0.22</td>\n",
       "      <td>317,255</td>\n",
       "      <td>301,057</td>\n",
       "      <td>301,052</td>\n",
       "      <td>301,047</td>\n",
       "      <td>301,037</td>\n",
       "      <td>301,018</td>\n",
       "      <td>300,986</td>\n",
       "      <td>300,989</td>\n",
       "      <td>300,967</td>\n",
       "      <td>301,078</td>\n",
       "    </tr>\n",
       "    <tr>\n",
       "      <th>India</th>\n",
       "      <td>1,380,004,385</td>\n",
       "      <td>0.99 %</td>\n",
       "      <td>13,586,631</td>\n",
       "      <td>464</td>\n",
       "      <td>2,973,190</td>\n",
       "      <td>-532,687</td>\n",
       "      <td>0.15</td>\n",
       "      <td>197,851</td>\n",
       "      <td>200,383</td>\n",
       "      <td>199,937</td>\n",
       "      <td>188,395</td>\n",
       "      <td>185,656</td>\n",
       "      <td>185,118</td>\n",
       "      <td>184,821</td>\n",
       "      <td>185,323</td>\n",
       "      <td>184,543</td>\n",
       "      <td>161,537</td>\n",
       "    </tr>\n",
       "    <tr>\n",
       "      <th>United States</th>\n",
       "      <td>331,002,651</td>\n",
       "      <td>0.59 %</td>\n",
       "      <td>1,937,734</td>\n",
       "      <td>36</td>\n",
       "      <td>9,147,420</td>\n",
       "      <td>954,806</td>\n",
       "      <td>0.84</td>\n",
       "      <td>272,959</td>\n",
       "      <td>267,222</td>\n",
       "      <td>267,222</td>\n",
       "      <td>263,662</td>\n",
       "      <td>262,023</td>\n",
       "      <td>264,763</td>\n",
       "      <td>264,574</td>\n",
       "      <td>275,461</td>\n",
       "      <td>279,548</td>\n",
       "      <td>281,219</td>\n",
       "    </tr>\n",
       "    <tr>\n",
       "      <th>Indonesia</th>\n",
       "      <td>273,523,615</td>\n",
       "      <td>1.07 %</td>\n",
       "      <td>2,898,047</td>\n",
       "      <td>151</td>\n",
       "      <td>1,811,570</td>\n",
       "      <td>-98,955</td>\n",
       "      <td>0.02</td>\n",
       "      <td>7,827</td>\n",
       "      <td>5,277</td>\n",
       "      <td>4,270</td>\n",
       "      <td>3,206</td>\n",
       "      <td>1,819</td>\n",
       "      <td>1,006</td>\n",
       "      <td>811</td>\n",
       "      <td>798</td>\n",
       "      <td>369</td>\n",
       "      <td>315</td>\n",
       "    </tr>\n",
       "    <tr>\n",
       "      <th>Pakistan</th>\n",
       "      <td>220,892,340</td>\n",
       "      <td>2.00 %</td>\n",
       "      <td>4,327,022</td>\n",
       "      <td>287</td>\n",
       "      <td>770,880</td>\n",
       "      <td>-233,379</td>\n",
       "      <td>8.33</td>\n",
       "      <td>1,352,560</td>\n",
       "      <td>1,540,854</td>\n",
       "      <td>1,505,525</td>\n",
       "      <td>1,616,507</td>\n",
       "      <td>1,638,456</td>\n",
       "      <td>1,702,700</td>\n",
       "      <td>1,900,621</td>\n",
       "      <td>759,392</td>\n",
       "      <td>765,720</td>\n",
       "      <td>887,273</td>\n",
       "    </tr>\n",
       "  </tbody>\n",
       "</table>\n",
       "</div>"
      ],
      "text/plain": [
       "                  Population Yearly Change (%)  Net Change Density (P/Km²)  \\\n",
       "Country Name                                                                 \n",
       "China          1,439,323,776            0.39 %   5,540,090             153   \n",
       "India          1,380,004,385            0.99 %  13,586,631             464   \n",
       "United States    331,002,651            0.59 %   1,937,734              36   \n",
       "Indonesia        273,523,615            1.07 %   2,898,047             151   \n",
       "Pakistan         220,892,340            2.00 %   4,327,022             287   \n",
       "\n",
       "              Land Area (Km²) Net Migrants  Refugees per 1000  \\\n",
       "Country Name                                                    \n",
       "China               9,388,211     -348,399               0.22   \n",
       "India               2,973,190     -532,687               0.15   \n",
       "United States       9,147,420      954,806               0.84   \n",
       "Indonesia           1,811,570      -98,955               0.02   \n",
       "Pakistan              770,880     -233,379               8.33   \n",
       "\n",
       "              Refugees in (2016) Refugees in (2015) Refugees in (2014)  \\\n",
       "Country Name                                                             \n",
       "China                    317,255            301,057            301,052   \n",
       "India                    197,851            200,383            199,937   \n",
       "United States            272,959            267,222            267,222   \n",
       "Indonesia                  7,827              5,277              4,270   \n",
       "Pakistan               1,352,560          1,540,854          1,505,525   \n",
       "\n",
       "              Refugees in (2013) Refugees in (2012) Refugees in (2011)  \\\n",
       "Country Name                                                             \n",
       "China                    301,047            301,037            301,018   \n",
       "India                    188,395            185,656            185,118   \n",
       "United States            263,662            262,023            264,763   \n",
       "Indonesia                  3,206              1,819              1,006   \n",
       "Pakistan               1,616,507          1,638,456          1,702,700   \n",
       "\n",
       "              Refugees in (2010) Refugees in (2009) Refugees in (2008)  \\\n",
       "Country Name                                                             \n",
       "China                    300,986            300,989            300,967   \n",
       "India                    184,821            185,323            184,543   \n",
       "United States            264,574            275,461            279,548   \n",
       "Indonesia                    811                798                369   \n",
       "Pakistan               1,900,621            759,392            765,720   \n",
       "\n",
       "              Refugees in (2007)  \n",
       "Country Name                      \n",
       "China                    301,078  \n",
       "India                    161,537  \n",
       "United States            281,219  \n",
       "Indonesia                    315  \n",
       "Pakistan                 887,273  "
      ]
     },
     "execution_count": 46,
     "metadata": {},
     "output_type": "execute_result"
    }
   ],
   "source": [
    "mergedpop.head()"
   ]
  },
  {
   "cell_type": "code",
   "execution_count": 47,
   "metadata": {},
   "outputs": [
    {
     "data": {
      "text/plain": [
       "Population            67,886,011\n",
       "Yearly Change (%)         0.53 %\n",
       "Net Change               355,839\n",
       "Density (P/Km²)              281\n",
       "Land Area (Km²)          241,930\n",
       "Net Migrants             260,650\n",
       "Refugees per 1000           1.82\n",
       "Refugees in (2016)       118,995\n",
       "Refugees in (2015)       117,234\n",
       "Refugees in (2014)       117,234\n",
       "Refugees in (2013)       126,055\n",
       "Refugees in (2012)       149,799\n",
       "Refugees in (2011)       193,510\n",
       "Refugees in (2010)       238,150\n",
       "Refugees in (2009)       269,363\n",
       "Refugees in (2008)       292,097\n",
       "Refugees in (2007)       299,718\n",
       "Name: United Kingdom, dtype: object"
      ]
     },
     "execution_count": 47,
     "metadata": {},
     "output_type": "execute_result"
    }
   ],
   "source": [
    "mergedpop.loc[\"United Kingdom\"]"
   ]
  },
  {
   "cell_type": "markdown",
   "metadata": {},
   "source": [
    "N: Changing the strings to floats and integers."
   ]
  },
  {
   "cell_type": "code",
   "execution_count": 48,
   "metadata": {},
   "outputs": [
    {
     "data": {
      "text/plain": [
       "Population             object\n",
       "Yearly Change (%)      object\n",
       "Net Change             object\n",
       "Density (P/Km²)        object\n",
       "Land Area (Km²)        object\n",
       "Net Migrants           object\n",
       "Refugees per 1000     float64\n",
       "Refugees in (2016)     object\n",
       "Refugees in (2015)     object\n",
       "Refugees in (2014)     object\n",
       "Refugees in (2013)     object\n",
       "Refugees in (2012)     object\n",
       "Refugees in (2011)     object\n",
       "Refugees in (2010)     object\n",
       "Refugees in (2009)     object\n",
       "Refugees in (2008)     object\n",
       "Refugees in (2007)     object\n",
       "dtype: object"
      ]
     },
     "execution_count": 48,
     "metadata": {},
     "output_type": "execute_result"
    }
   ],
   "source": [
    "mergedpop.dtypes"
   ]
  },
  {
   "cell_type": "code",
   "execution_count": 49,
   "metadata": {},
   "outputs": [],
   "source": [
    "mergedpop[\"Yearly Change (%)\"] = mergedpop[\"Yearly Change (%)\"].str.replace(\"%\", \"\").astype(float)\n",
    "\n",
    "cols_to_change = [\"Population\", \"Net Change\", \"Density (P/Km²)\", \n",
    "                  \"Land Area (Km²)\", \"Net Migrants\", \"Refugees in (2016)\", \n",
    "                  \"Refugees in (2015)\", \"Refugees in (2014)\", \"Refugees in (2013)\", \n",
    "                  \"Refugees in (2012)\", \"Refugees in (2011)\", \"Refugees in (2010)\", \n",
    "                  \"Refugees in (2009)\", \"Refugees in (2008)\", \"Refugees in (2007)\"]\n",
    "\n",
    "for col in cols_to_change:\n",
    "    mergedpop[col] = mergedpop[col].str.replace(\",\", \"\").astype(int)"
   ]
  },
  {
   "cell_type": "code",
   "execution_count": 50,
   "metadata": {},
   "outputs": [
    {
     "data": {
      "text/plain": [
       "Population              int32\n",
       "Yearly Change (%)     float64\n",
       "Net Change              int32\n",
       "Density (P/Km²)         int32\n",
       "Land Area (Km²)         int32\n",
       "Net Migrants            int32\n",
       "Refugees per 1000     float64\n",
       "Refugees in (2016)      int32\n",
       "Refugees in (2015)      int32\n",
       "Refugees in (2014)      int32\n",
       "Refugees in (2013)      int32\n",
       "Refugees in (2012)      int32\n",
       "Refugees in (2011)      int32\n",
       "Refugees in (2010)      int32\n",
       "Refugees in (2009)      int32\n",
       "Refugees in (2008)      int32\n",
       "Refugees in (2007)      int32\n",
       "dtype: object"
      ]
     },
     "execution_count": 50,
     "metadata": {},
     "output_type": "execute_result"
    }
   ],
   "source": [
    "mergedpop.dtypes"
   ]
  },
  {
   "cell_type": "markdown",
   "metadata": {},
   "source": [
    "##### Data Analysis"
   ]
  },
  {
   "cell_type": "code",
   "execution_count": 51,
   "metadata": {},
   "outputs": [
    {
     "data": {
      "text/plain": [
       "Country Name\n",
       "Turkey                          2869421\n",
       "Pakistan                        1352560\n",
       "Lebanon                         1012969\n",
       "Iran                             979435\n",
       "Bangladesh                       950000\n",
       "Uganda                           940835\n",
       "Ethiopia                         791631\n",
       "Jordan                           685197\n",
       "Germany                          669482\n",
       "Democratic Republic of Congo     451956\n",
       "Name: Refugees in (2016), dtype: int32"
      ]
     },
     "execution_count": 51,
     "metadata": {},
     "output_type": "execute_result"
    }
   ],
   "source": [
    "mergedpop[\"Refugees in (2016)\"].sort_values(ascending = False).head(10)"
   ]
  },
  {
   "cell_type": "markdown",
   "metadata": {},
   "source": [
    "E: Top 10 countries with the most refugees."
   ]
  },
  {
   "cell_type": "code",
   "execution_count": 52,
   "metadata": {
    "scrolled": true
   },
   "outputs": [
    {
     "data": {
      "text/plain": [
       "Country Name\n",
       "Turkey      1587374\n",
       "Pakistan    1505525\n",
       "Lebanon     1154040\n",
       "Iran         982027\n",
       "Ethiopia     659524\n",
       "Jordan       654141\n",
       "Kenya        551352\n",
       "Chad         452897\n",
       "Uganda       385513\n",
       "China        301052\n",
       "Name: Refugees in (2014), dtype: int32"
      ]
     },
     "execution_count": 52,
     "metadata": {},
     "output_type": "execute_result"
    }
   ],
   "source": [
    "mergedpop[\"Refugees in (2014)\"].sort_values(ascending = False).head(10)"
   ]
  },
  {
   "cell_type": "markdown",
   "metadata": {},
   "source": [
    "Top 10 countries with the most refugees in 2014."
   ]
  },
  {
   "cell_type": "code",
   "execution_count": 53,
   "metadata": {},
   "outputs": [
    {
     "data": {
      "text/plain": [
       "Country Name\n",
       "Syria                           3869626.0\n",
       "Afghanistan                     2596270.0\n",
       "Somalia                         1106434.0\n",
       "Sudan                            659408.0\n",
       "South Sudan                      616143.0\n",
       "Democratic Republic of Congo     516563.0\n",
       "Central African Republic         410787.0\n",
       "Iraq                             369954.0\n",
       "Eritrea                          330541.0\n",
       "Pakistan                         315805.0\n",
       "Name: Fleeing in (2014), dtype: float64"
      ]
     },
     "execution_count": 53,
     "metadata": {},
     "output_type": "execute_result"
    }
   ],
   "source": [
    "rbo[\"Fleeing in (2014)\"].sort_values(ascending = False).head(10)"
   ]
  },
  {
   "cell_type": "code",
   "execution_count": 54,
   "metadata": {},
   "outputs": [
    {
     "name": "stdout",
     "output_type": "stream",
     "text": [
      "2489613\n"
     ]
    }
   ],
   "source": [
    "afghan_sum = ( \n",
    "mergedpop[\"Refugees in (2014)\"].loc[\"Turkmenistan\"] + \n",
    "mergedpop[\"Refugees in (2014)\"].loc[\"Tajikistan\"] + \n",
    "mergedpop[\"Refugees in (2014)\"].loc[\"Pakistan\"] + \n",
    "mergedpop[\"Refugees in (2014)\"].loc[\"Iran\"]\n",
    ")\n",
    "\n",
    "print(afghan_sum)"
   ]
  },
  {
   "cell_type": "markdown",
   "metadata": {},
   "source": [
    "N: The sum of rufugees inside of some surrounding countries to Afghanistan."
   ]
  },
  {
   "cell_type": "code",
   "execution_count": 55,
   "metadata": {},
   "outputs": [
    {
     "name": "stdout",
     "output_type": "stream",
     "text": [
      "16.227421691644444\n"
     ]
    }
   ],
   "source": [
    "Sum = (404000 / 2489613) * 100 \n",
    "print(Sum) "
   ]
  },
  {
   "cell_type": "code",
   "execution_count": 56,
   "metadata": {
    "scrolled": true
   },
   "outputs": [
    {
     "data": {
      "text/plain": [
       "Country Name\n",
       "Lebanon              208.91\n",
       "Jordan                89.55\n",
       "Chad                  30.97\n",
       "Turkey                23.72\n",
       "Mauritania            19.36\n",
       "Djibouti              16.88\n",
       "Sweden                14.66\n",
       "Malta                 14.58\n",
       "Republic of Congo     13.65\n",
       "Cameroon              13.27\n",
       "Name: Refugees per 1000, dtype: float64"
      ]
     },
     "execution_count": 56,
     "metadata": {},
     "output_type": "execute_result"
    }
   ],
   "source": [
    "mergedpop[\"Refugees per 1000\"].sort_values(ascending = False).head(10)"
   ]
  },
  {
   "cell_type": "markdown",
   "metadata": {},
   "source": [
    "E: Table that shows countries with the highest density of refugees."
   ]
  },
  {
   "cell_type": "code",
   "execution_count": 57,
   "metadata": {},
   "outputs": [
    {
     "data": {
      "text/plain": [
       "Country Name\n",
       "Syria                               17.09\n",
       "Somalia                              9.52\n",
       "Central African Republic             7.88\n",
       "Afghanistan                          7.59\n",
       "Eritrea                              6.08\n",
       "South Sudan                          4.92\n",
       "Bhutan                               3.00\n",
       "Palestinians                         2.10\n",
       "Sudan                                1.65\n",
       "Saint Vincent and the Grenadines     1.56\n",
       "Name: Percentage of Population (%), dtype: float64"
      ]
     },
     "execution_count": 57,
     "metadata": {},
     "output_type": "execute_result"
    }
   ],
   "source": [
    "rbo[\"Percentage of Population (%)\"].sort_values(ascending = False).head(10)"
   ]
  },
  {
   "cell_type": "markdown",
   "metadata": {},
   "source": [
    "E: Percentage of a countries population have have fled their country"
   ]
  },
  {
   "cell_type": "code",
   "execution_count": 58,
   "metadata": {},
   "outputs": [
    {
     "data": {
      "text/plain": [
       "Population            6825445.00\n",
       "Yearly Change (%)          -0.44\n",
       "Net Change             -30268.00\n",
       "Density (P/Km²)           667.00\n",
       "Land Area (Km²)         10230.00\n",
       "Net Migrants           -30012.00\n",
       "Refugees per 1000         208.91\n",
       "Refugees in (2016)    1012969.00\n",
       "Refugees in (2015)    1172388.00\n",
       "Refugees in (2014)    1154040.00\n",
       "Refugees in (2013)     856546.00\n",
       "Refugees in (2012)     133538.00\n",
       "Refugees in (2011)       8845.00\n",
       "Refugees in (2010)       7949.00\n",
       "Refugees in (2009)      50300.00\n",
       "Refugees in (2008)      50319.00\n",
       "Refugees in (2007)      50266.00\n",
       "Name: Lebanon, dtype: float64"
      ]
     },
     "execution_count": 58,
     "metadata": {},
     "output_type": "execute_result"
    }
   ],
   "source": [
    "mergedpop.loc[\"Lebanon\"]"
   ]
  },
  {
   "cell_type": "code",
   "execution_count": 59,
   "metadata": {},
   "outputs": [
    {
     "data": {
      "text/plain": [
       "6825445"
      ]
     },
     "execution_count": 59,
     "metadata": {},
     "output_type": "execute_result"
    }
   ],
   "source": [
    "mergedpop[\"Population\"].loc[\"Lebanon\"]"
   ]
  },
  {
   "cell_type": "markdown",
   "metadata": {},
   "source": [
    "E: The population of Lebabon is 6.8 million, which means they have over 1 million refugees. "
   ]
  },
  {
   "cell_type": "code",
   "execution_count": 60,
   "metadata": {},
   "outputs": [],
   "source": [
    "ukdens = mergedpop[\"Density (P/Km²)\"].loc[\"United Kingdom\"]\n",
    "lebdens = mergedpop[\"Density (P/Km²)\"].loc[\"Lebanon\"]\n",
    "compareukleb = ukdens, lebdens"
   ]
  },
  {
   "cell_type": "code",
   "execution_count": 61,
   "metadata": {},
   "outputs": [
    {
     "data": {
      "text/plain": [
       "137.36654804270464"
      ]
     },
     "execution_count": 61,
     "metadata": {},
     "output_type": "execute_result"
    }
   ],
   "source": [
    "res = compareukleb[1] - compareukleb[0]\n",
    "res / compareukleb[0] * 100"
   ]
  },
  {
   "cell_type": "markdown",
   "metadata": {},
   "source": [
    "E: A calculation of how much more dense in population Lebanon is compared to the UK as a percentage."
   ]
  },
  {
   "cell_type": "code",
   "execution_count": 62,
   "metadata": {},
   "outputs": [
    {
     "name": "stdout",
     "output_type": "stream",
     "text": [
      "Country Name\n",
      "Lebanon              208.91\n",
      "Jordan                89.55\n",
      "Chad                  30.97\n",
      "Turkey                23.72\n",
      "Mauritania            19.36\n",
      "Djibouti              16.88\n",
      "Sweden                14.66\n",
      "Malta                 14.58\n",
      "Republic of Congo     13.65\n",
      "Cameroon              13.27\n",
      "Name: Refugees per 1000, dtype: float64\n"
     ]
    }
   ],
   "source": [
    "top10rp1000 = mergedpop[\"Refugees per 1000\"].sort_values(ascending = False).head(10)\n",
    "print(top10rp1000)"
   ]
  },
  {
   "cell_type": "code",
   "execution_count": 63,
   "metadata": {},
   "outputs": [
    {
     "data": {
      "text/plain": [
       "Text(0.5, 1.0, 'Number of refugees per 1000 residents per country')"
      ]
     },
     "execution_count": 63,
     "metadata": {},
     "output_type": "execute_result"
    },
    {
     "data": {
      "image/png": "[encoded data removed]",
      "text/plain": [
       "<Figure size 640x480 with 1 Axes>"
      ]
     },
     "metadata": {},
     "output_type": "display_data"
    }
   ],
   "source": [
    "sns.barplot(x = top10rp1000.index, y = top10rp1000)\n",
    "plt.xticks(rotation = 90)\n",
    "plt.title(\"Number of refugees per 1000 residents per country\")"
   ]
  },
  {
   "cell_type": "markdown",
   "metadata": {},
   "source": [
    "G: Countries shown in a bar graph with the highest refugee population per 1000 people. "
   ]
  },
  {
   "cell_type": "code",
   "execution_count": 64,
   "metadata": {},
   "outputs": [
    {
     "data": {
      "text/plain": [
       "Population            17134872.00\n",
       "Yearly Change (%)            0.22\n",
       "Net Change               37742.00\n",
       "Density (P/Km²)            508.00\n",
       "Land Area (Km²)          33720.00\n",
       "Net Migrants             16000.00\n",
       "Refugees per 1000            4.89\n",
       "Refugees in (2016)      101744.00\n",
       "Refugees in (2015)       82494.00\n",
       "Refugees in (2014)       82494.00\n",
       "Refugees in (2013)       74707.00\n",
       "Refugees in (2012)       71909.00\n",
       "Refugees in (2011)       74598.00\n",
       "Refugees in (2010)       74961.00\n",
       "Refugees in (2009)       76008.00\n",
       "Refugees in (2008)       77600.00\n",
       "Refugees in (2007)       86587.00\n",
       "Name: Netherlands, dtype: float64"
      ]
     },
     "execution_count": 64,
     "metadata": {},
     "output_type": "execute_result"
    }
   ],
   "source": [
    "mergedpop.loc[\"Netherlands\"]"
   ]
  },
  {
   "cell_type": "code",
   "execution_count": 65,
   "metadata": {},
   "outputs": [],
   "source": [
    "western_europe = mergedpop.loc[[\"United Kingdom\", \"France\", \"Spain\", \"Portugal\", \"Belgium\", \n",
    "                                \"Netherlands\", \"Germany\", \"Italy\", \"Norway\", \"Sweden\", \"Switzerland\", \n",
    "                               \"Iceland\", \"Austria\", \"Czech Republic\"]]"
   ]
  },
  {
   "cell_type": "markdown",
   "metadata": {},
   "source": [
    "N: A dataframe with selected western European nations."
   ]
  },
  {
   "cell_type": "code",
   "execution_count": 66,
   "metadata": {
    "scrolled": true
   },
   "outputs": [
    {
     "data": {
      "text/plain": [
       "Text(0.5, 1.0, 'Refugees per 1000 people per each Western European nation')"
      ]
     },
     "execution_count": 66,
     "metadata": {},
     "output_type": "execute_result"
    },
    {
     "data": {
      "image/png": "[encoded data removed]",
      "text/plain": [
       "<Figure size 640x480 with 1 Axes>"
      ]
     },
     "metadata": {},
     "output_type": "display_data"
    }
   ],
   "source": [
    "sns.barplot(x = western_europe.index, y = western_europe[\"Refugees per 1000\"])\n",
    "plt.xticks(rotation = 90)\n",
    "plt.title(\"Refugees per 1000 people per each Western European nation\")"
   ]
  },
  {
   "cell_type": "markdown",
   "metadata": {},
   "source": [
    "G: A graph showing refugee density per selected European nations."
   ]
  },
  {
   "cell_type": "code",
   "execution_count": 67,
   "metadata": {
    "scrolled": true
   },
   "outputs": [
    {
     "data": {
      "text/plain": [
       "Text(0.5, 1.0, 'Number of refugees in each country in 2016')"
      ]
     },
     "execution_count": 67,
     "metadata": {},
     "output_type": "execute_result"
    },
    {
     "data": {
      "image/png": "[encoded data removed]",
      "text/plain": [
       "<Figure size 640x480 with 1 Axes>"
      ]
     },
     "metadata": {},
     "output_type": "display_data"
    }
   ],
   "source": [
    "sns.barplot(x = western_europe.index, y = western_europe[\"Refugees in (2016)\"])\n",
    "plt.xticks(rotation = 90)\n",
    "plt.title(\"Number of refugees in each country in 2016\")"
   ]
  },
  {
   "cell_type": "markdown",
   "metadata": {},
   "source": [
    "G: Selected western European countries with the most refugees coming to their country in 2016. "
   ]
  },
  {
   "cell_type": "code",
   "execution_count": 68,
   "metadata": {},
   "outputs": [
    {
     "data": {
      "text/plain": [
       "Text(0.5, 1.0, 'Number of refugees in each country in 2008')"
      ]
     },
     "execution_count": 68,
     "metadata": {},
     "output_type": "execute_result"
    },
    {
     "data": {
      "image/png": "[encoded data removed]",
      "text/plain": [
       "<Figure size 640x480 with 1 Axes>"
      ]
     },
     "metadata": {},
     "output_type": "display_data"
    }
   ],
   "source": [
    "sns.barplot(x = western_europe.index, y = western_europe[\"Refugees in (2008)\"])\n",
    "plt.xticks(rotation = 90)\n",
    "plt.title(\"Number of refugees in each country in 2008\")"
   ]
  },
  {
   "cell_type": "markdown",
   "metadata": {},
   "source": [
    "G: Selected western European countries with the most refugees coming to their country in 2008. "
   ]
  },
  {
   "cell_type": "code",
   "execution_count": 69,
   "metadata": {},
   "outputs": [
    {
     "data": {
      "text/plain": [
       "Text(0.5, 1.0, 'Population per Western European nation')"
      ]
     },
     "execution_count": 69,
     "metadata": {},
     "output_type": "execute_result"
    },
    {
     "data": {
      "image/png": "[encoded data removed]",
      "text/plain": [
       "<Figure size 640x480 with 1 Axes>"
      ]
     },
     "metadata": {},
     "output_type": "display_data"
    }
   ],
   "source": [
    "sns.barplot(x = western_europe.index, y = western_europe[\"Population\"])\n",
    "plt.xticks(rotation = 90)\n",
    "plt.title(\"Population per Western European nation\")"
   ]
  },
  {
   "cell_type": "markdown",
   "metadata": {},
   "source": [
    "G: Selected western European countries by their population. "
   ]
  },
  {
   "cell_type": "code",
   "execution_count": 70,
   "metadata": {},
   "outputs": [
    {
     "data": {
      "text/plain": [
       "Population            3280819.00\n",
       "Yearly Change (%)          -0.61\n",
       "Net Change             -20181.00\n",
       "Density (P/Km²)            64.00\n",
       "Land Area (Km²)         51000.00\n",
       "Net Migrants           -21585.00\n",
       "Refugees per 1000           1.78\n",
       "Refugees in (2016)       5271.00\n",
       "Refugees in (2015)       6805.00\n",
       "Refugees in (2014)       6890.00\n",
       "Refugees in (2013)       6926.00\n",
       "Refugees in (2012)       6903.00\n",
       "Refugees in (2011)       6933.00\n",
       "Refugees in (2010)       7016.00\n",
       "Refugees in (2009)       7132.00\n",
       "Refugees in (2008)       7257.00\n",
       "Refugees in (2007)       7367.00\n",
       "Name: Bosnia and Herzegovina, dtype: float64"
      ]
     },
     "execution_count": 70,
     "metadata": {},
     "output_type": "execute_result"
    }
   ],
   "source": [
    "mergedpop.loc[\"Bosnia and Herzegovina\"]"
   ]
  },
  {
   "cell_type": "code",
   "execution_count": 71,
   "metadata": {},
   "outputs": [],
   "source": [
    "eastern_europe = mergedpop.loc[[\"Estonia\", \"Latvia\", \"Lithuania\", \"Belarus\", \"Ukraine\", \"Romania\", \n",
    "                               \"Bosnia and Herzegovina\", \"Bulgaria\", \"Poland\", \"Slovakia\", \"Serbia\", \n",
    "                               \"Hungary\", \"North Macedonia\", \"Greece\", \"Albania\"]]"
   ]
  },
  {
   "cell_type": "markdown",
   "metadata": {},
   "source": [
    "N: A dataframe with selected eastern European nations."
   ]
  },
  {
   "cell_type": "code",
   "execution_count": 72,
   "metadata": {
    "scrolled": true
   },
   "outputs": [
    {
     "data": {
      "text/plain": [
       "Text(0.5, 1.0, 'Refugees in 2016 per Eastern European nation')"
      ]
     },
     "execution_count": 72,
     "metadata": {},
     "output_type": "execute_result"
    },
    {
     "data": {
      "image/png": "[encoded data removed]",
      "text/plain": [
       "<Figure size 640x480 with 1 Axes>"
      ]
     },
     "metadata": {},
     "output_type": "display_data"
    }
   ],
   "source": [
    "sns.barplot(x = eastern_europe.index, y = eastern_europe[\"Refugees in (2016)\"])\n",
    "plt.xticks(rotation = 90)\n",
    "plt.title(\"Refugees in 2016 per Eastern European nation\")"
   ]
  },
  {
   "cell_type": "markdown",
   "metadata": {},
   "source": [
    "G: Selected eastern European countries with the most refugees coming to their country in 2016."
   ]
  },
  {
   "cell_type": "code",
   "execution_count": 73,
   "metadata": {
    "scrolled": false
   },
   "outputs": [
    {
     "data": {
      "text/plain": [
       "Text(0.5, 1.0, 'Refugees in 2008 per Eastern European nation')"
      ]
     },
     "execution_count": 73,
     "metadata": {},
     "output_type": "execute_result"
    },
    {
     "data": {
      "image/png": "[encoded data removed]",
      "text/plain": [
       "<Figure size 640x480 with 1 Axes>"
      ]
     },
     "metadata": {},
     "output_type": "display_data"
    }
   ],
   "source": [
    "sns.barplot(x = eastern_europe.index, y = eastern_europe[\"Refugees in (2008)\"])\n",
    "plt.xticks(rotation = 90)\n",
    "plt.title(\"Refugees in 2008 per Eastern European nation\")"
   ]
  },
  {
   "cell_type": "markdown",
   "metadata": {},
   "source": [
    "G: Selected western European countries with the most refugees coming to their country in 2008."
   ]
  },
  {
   "cell_type": "code",
   "execution_count": 74,
   "metadata": {
    "scrolled": true
   },
   "outputs": [
    {
     "data": {
      "text/plain": [
       "Text(0.5, 1.0, 'Population per Western European nation')"
      ]
     },
     "execution_count": 74,
     "metadata": {},
     "output_type": "execute_result"
    },
    {
     "data": {
      "image/png": "[encoded data removed]",
      "text/plain": [
       "<Figure size 640x480 with 1 Axes>"
      ]
     },
     "metadata": {},
     "output_type": "display_data"
    }
   ],
   "source": [
    "sns.barplot(x = eastern_europe.index, y = eastern_europe[\"Population\"])\n",
    "plt.xticks(rotation = 90)\n",
    "plt.title(\"Population per Western European nation\")"
   ]
  },
  {
   "cell_type": "markdown",
   "metadata": {},
   "source": [
    "G: Population of selected eastern European nations. "
   ]
  },
  {
   "cell_type": "code",
   "execution_count": 75,
   "metadata": {},
   "outputs": [
    {
     "name": "stdout",
     "output_type": "stream",
     "text": [
      "                        Population  Yearly Change (%)  Net Change  \\\n",
      "Country Name                                                        \n",
      "United Kingdom            67886011               0.53      355839   \n",
      "France                    65273511               0.22      143783   \n",
      "Spain                     46754778               0.04       18002   \n",
      "Portugal                  10196709              -0.29      -29478   \n",
      "Belgium                   11589623               0.44       50295   \n",
      "Netherlands               17134872               0.22       37742   \n",
      "Germany                   83783942               0.32      266897   \n",
      "Italy                     60461826              -0.15      -88249   \n",
      "Norway                     5421241               0.79       42384   \n",
      "Sweden                    10099265               0.63       62886   \n",
      "Switzerland                8654622               0.74       63257   \n",
      "Iceland                     341243               0.65        2212   \n",
      "Austria                    9006398               0.57       51296   \n",
      "Czech Republic            10708981               0.18       19772   \n",
      "Estonia                    1326535               0.07         887   \n",
      "Latvia                     1886198              -1.08      -20545   \n",
      "Lithuania                  2722289              -1.35      -37338   \n",
      "Belarus                    9449323              -0.03       -3088   \n",
      "Ukraine                   43733762              -0.59     -259876   \n",
      "Romania                   19237691              -0.66     -126866   \n",
      "Bosnia and Herzegovina     3280819              -0.61      -20181   \n",
      "Bulgaria                   6948445              -0.74      -51674   \n",
      "Poland                    37846611              -0.11      -41157   \n",
      "Slovakia                   5459642               0.05        2629   \n",
      "Serbia                     8737371              -0.40      -34864   \n",
      "Hungary                    9660351              -0.25      -24328   \n",
      "North Macedonia            2083374               0.00         -85   \n",
      "Greece                    10423054              -0.48      -50401   \n",
      "Albania                    2877797              -0.11       -3120   \n",
      "\n",
      "                        Density (P/Km²)  Land Area (Km²)  Net Migrants  \\\n",
      "Country Name                                                             \n",
      "United Kingdom                      281           241930        260650   \n",
      "France                              119           547557         36527   \n",
      "Spain                                94           498800         40000   \n",
      "Portugal                            111            91590         -6000   \n",
      "Belgium                             383            30280         48000   \n",
      "Netherlands                         508            33720         16000   \n",
      "Germany                             240           348560        543822   \n",
      "Italy                               206           294140        148943   \n",
      "Norway                               15           365268         28000   \n",
      "Sweden                               25           410340         40000   \n",
      "Switzerland                         219            39516         52000   \n",
      "Iceland                               3           100250           380   \n",
      "Austria                             109            82409         65000   \n",
      "Czech Republic                      139            77240         22011   \n",
      "Estonia                              31            42390          3911   \n",
      "Latvia                               30            62200        -14837   \n",
      "Lithuania                            43            62674        -32780   \n",
      "Belarus                              47           202910          8730   \n",
      "Ukraine                              75           579320         10000   \n",
      "Romania                              84           230170        -73999   \n",
      "Bosnia and Herzegovina               64            51000        -21585   \n",
      "Bulgaria                             64           108560         -4800   \n",
      "Poland                              124           306230        -29395   \n",
      "Slovakia                            114            48088          1485   \n",
      "Serbia                              100            87460          4000   \n",
      "Hungary                             107            90530          6000   \n",
      "North Macedonia                      83            25220         -1000   \n",
      "Greece                               81           128900        -16000   \n",
      "Albania                             105            27400        -14000   \n",
      "\n",
      "                        Refugees per 1000  Refugees in (2016)  \\\n",
      "Country Name                                                    \n",
      "United Kingdom                       1.82              118995   \n",
      "France                               4.13              304546   \n",
      "Spain                                0.13               12989   \n",
      "Portugal                             0.07                1194   \n",
      "Belgium                              2.77               42168   \n",
      "Netherlands                          4.89              101744   \n",
      "Germany                              3.10              669482   \n",
      "Italy                                1.57              147370   \n",
      "Norway                               9.14               59522   \n",
      "Sweden                              14.66              230164   \n",
      "Switzerland                          8.45               82681   \n",
      "Iceland                              0.32                 252   \n",
      "Austria                              7.13               93250   \n",
      "Czech Republic                       0.30                3644   \n",
      "Estonia                              0.09                 322   \n",
      "Latvia                               0.10                 349   \n",
      "Lithuania                            0.36                1288   \n",
      "Belarus                              0.14                1650   \n",
      "Ukraine                              0.07                3302   \n",
      "Romania                              0.12                2905   \n",
      "Bosnia and Herzegovina               1.78                5271   \n",
      "Bulgaria                             1.53               17814   \n",
      "Poland                               0.41               11747   \n",
      "Slovakia                             0.15                 990   \n",
      "Serbia                               3.97               29522   \n",
      "Hungary                              0.42                4748   \n",
      "North Macedonia                      0.40                 477   \n",
      "Greece                               0.75               21484   \n",
      "Albania                              0.05                 138   \n",
      "\n",
      "                        Refugees in (2015)  Refugees in (2014)  \\\n",
      "Country Name                                                     \n",
      "United Kingdom                      117234              117234   \n",
      "France                              264972              252264   \n",
      "Spain                                 5798                5798   \n",
      "Portugal                               699                 699   \n",
      "Belgium                              31115               29179   \n",
      "Netherlands                          82494               82494   \n",
      "Germany                             250299              216973   \n",
      "Italy                                93715               93715   \n",
      "Norway                               47043               47043   \n",
      "Sweden                              142207              142207   \n",
      "Switzerland                          69390               62620   \n",
      "Iceland                                104                  99   \n",
      "Austria                              60747               60747   \n",
      "Czech Republic                        3137                3137   \n",
      "Estonia                                117                  90   \n",
      "Latvia                                 195                 183   \n",
      "Lithuania                             1055                1007   \n",
      "Belarus                               1369                 925   \n",
      "Ukraine                               3232                3219   \n",
      "Romania                               2426                2182   \n",
      "Bosnia and Herzegovina                6805                6890   \n",
      "Bulgaria                             11046               11046   \n",
      "Poland                               15741               15741   \n",
      "Slovakia                               799                 799   \n",
      "Serbia                               35309               43751   \n",
      "Hungary                               4192                2867   \n",
      "North Macedonia                        584                 614   \n",
      "Greece                                7304                7304   \n",
      "Albania                                154                 104   \n",
      "\n",
      "                        Refugees in (2013)  Refugees in (2012)  \\\n",
      "Country Name                                                     \n",
      "United Kingdom                      126055              149799   \n",
      "France                              232487              217865   \n",
      "Spain                                 4637                4510   \n",
      "Portugal                               598                 483   \n",
      "Belgium                              25629               22024   \n",
      "Netherlands                          74707               71909   \n",
      "Germany                             187567              589737   \n",
      "Italy                                76264               64779   \n",
      "Norway                               46106               42822   \n",
      "Sweden                              114175               92872   \n",
      "Switzerland                          52464               50747   \n",
      "Iceland                                 79                  60   \n",
      "Austria                              55598               51730   \n",
      "Czech Republic                        2979                2805   \n",
      "Estonia                                 70                  63   \n",
      "Latvia                                 160                 125   \n",
      "Lithuania                              916                 871   \n",
      "Belarus                                604                 576   \n",
      "Ukraine                               2968                2807   \n",
      "Romania                               1770                1262   \n",
      "Bosnia and Herzegovina                6926                6903   \n",
      "Bulgaria                              4320                2288   \n",
      "Poland                               16438               15911   \n",
      "Slovakia                               701                 662   \n",
      "Serbia                               57083               66370   \n",
      "Hungary                               2440                4054   \n",
      "North Macedonia                        687                 750   \n",
      "Greece                                3485                2100   \n",
      "Albania                                 96                  86   \n",
      "\n",
      "                        Refugees in (2011)  Refugees in (2010)  \\\n",
      "Country Name                                                     \n",
      "United Kingdom                      193510              238150   \n",
      "France                              210207              200687   \n",
      "Spain                                 4228                3820   \n",
      "Portugal                               408                 384   \n",
      "Belgium                              22402               17892   \n",
      "Netherlands                          74598               74961   \n",
      "Germany                             571685              594269   \n",
      "Italy                                58060               56397   \n",
      "Norway                               40691               40260   \n",
      "Sweden                               86615               82629   \n",
      "Switzerland                          50416               48813   \n",
      "Iceland                                 58                  83   \n",
      "Austria                              47073               42630   \n",
      "Czech Republic                        2449                2449   \n",
      "Estonia                                 50                  39   \n",
      "Latvia                                  95                  68   \n",
      "Lithuania                              821                 803   \n",
      "Belarus                                595                 589   \n",
      "Ukraine                               2676                2522   \n",
      "Romania                               1005                1021   \n",
      "Bosnia and Herzegovina                6933                7016   \n",
      "Bulgaria                              5688                5530   \n",
      "Poland                               15847               15555   \n",
      "Slovakia                               546                 461   \n",
      "Serbia                               70707               73608   \n",
      "Hungary                               5106                5414   \n",
      "North Macedonia                        801                 959   \n",
      "Greece                                1573                1444   \n",
      "Albania                                 82                  76   \n",
      "\n",
      "                        Refugees in (2009)  Refugees in (2008)  \\\n",
      "Country Name                                                     \n",
      "United Kingdom                      269363              292097   \n",
      "France                              196364              160017   \n",
      "Spain                                 3970                4661   \n",
      "Portugal                               389                 403   \n",
      "Belgium                              15545               17026   \n",
      "Netherlands                          76008               77600   \n",
      "Germany                             593799              582735   \n",
      "Italy                                54965               47061   \n",
      "Norway                               37826               36101   \n",
      "Sweden                               81356               77038   \n",
      "Switzerland                          46203               46132   \n",
      "Iceland                                 62                  49   \n",
      "Austria                              38906               37557   \n",
      "Czech Republic                        2323                2110   \n",
      "Estonia                                 24                  22   \n",
      "Latvia                                  43                  32   \n",
      "Lithuania                              793                 751   \n",
      "Belarus                                580                 609   \n",
      "Ukraine                               2334                2201   \n",
      "Romania                               1069                1596   \n",
      "Bosnia and Herzegovina                7132                7257   \n",
      "Bulgaria                              5393                5129   \n",
      "Poland                               15320               12774   \n",
      "Slovakia                               401                 317   \n",
      "Serbia                               86351               96739   \n",
      "Hungary                               6044                7750   \n",
      "North Macedonia                       1065                1153   \n",
      "Greece                                1695                2164   \n",
      "Albania                                 70                  65   \n",
      "\n",
      "                        Refugees in (2007)  \n",
      "Country Name                                \n",
      "United Kingdom                      299718  \n",
      "France                              151789  \n",
      "Spain                                 5147  \n",
      "Portugal                               353  \n",
      "Belgium                              17575  \n",
      "Netherlands                          86587  \n",
      "Germany                             578879  \n",
      "Italy                                38068  \n",
      "Norway                               34522  \n",
      "Sweden                               75078  \n",
      "Switzerland                          45653  \n",
      "Iceland                                 49  \n",
      "Austria                              30773  \n",
      "Czech Republic                        2037  \n",
      "Estonia                                 18  \n",
      "Latvia                                  29  \n",
      "Lithuania                              688  \n",
      "Belarus                                649  \n",
      "Ukraine                               2277  \n",
      "Romania                               1757  \n",
      "Bosnia and Herzegovina                7367  \n",
      "Bulgaria                              4836  \n",
      "Poland                               10053  \n",
      "Slovakia                               279  \n",
      "Serbia                               97995  \n",
      "Hungary                               8131  \n",
      "North Macedonia                       1164  \n",
      "Greece                                2228  \n",
      "Albania                                 77  \n"
     ]
    }
   ],
   "source": [
    "frames = [western_europe, eastern_europe]\n",
    "europe = pd.concat(frames, axis = 0, join = \"outer\")\n",
    "print(europe)"
   ]
  },
  {
   "cell_type": "code",
   "execution_count": 76,
   "metadata": {
    "scrolled": true
   },
   "outputs": [
    {
     "data": {
      "text/plain": [
       "Text(0.5, 1.0, 'Rufugee comparison between Eastern Europe and Western Europe')"
      ]
     },
     "execution_count": 76,
     "metadata": {},
     "output_type": "execute_result"
    },
    {
     "data": {
      "image/png": "[encoded data removed]",
      "text/plain": [
       "<Figure size 640x480 with 1 Axes>"
      ]
     },
     "metadata": {},
     "output_type": "display_data"
    }
   ],
   "source": [
    "sns.barplot(x = europe.index, y = europe[\"Refugees per 1000\"])\n",
    "plt.xticks(rotation = 90)\n",
    "plt.title(\"Rufugee comparison between Eastern Europe and Western Europe\")"
   ]
  },
  {
   "cell_type": "markdown",
   "metadata": {},
   "source": [
    "G: Graphic comparing between western European nations vs eastern European nations. "
   ]
  },
  {
   "cell_type": "code",
   "execution_count": 77,
   "metadata": {},
   "outputs": [],
   "source": [
    "mergedpop.to_csv(r\"C:\\Users\\georg\\Desktop\\Data Centre\\DataPython\\refugee_mergedpop.csv\", index = True, header = True)"
   ]
  },
  {
   "cell_type": "code",
   "execution_count": 79,
   "metadata": {},
   "outputs": [],
   "source": [
    "rbo.fillna(value = 1, inplace = True)"
   ]
  },
  {
   "cell_type": "code",
   "execution_count": 80,
   "metadata": {},
   "outputs": [],
   "source": [
    "rbo.to_csv(r\"C:\\Users\\georg\\Desktop\\Data Centre\\DataPython\\refugee_by_origin.csv\", index = True, header = True)"
   ]
  }
 ],
 "metadata": {
  "kernelspec": {
   "display_name": "Python 3 (ipykernel)",
   "language": "python",
   "name": "python3"
  },
  "language_info": {
   "codemirror_mode": {
    "name": "ipython",
    "version": 3
   },
   "file_extension": ".py",
   "mimetype": "text/x-python",
   "name": "python",
   "nbconvert_exporter": "python",
   "pygments_lexer": "ipython3",
   "version": "3.10.9"
  }
 },
 "nbformat": 4,
 "nbformat_minor": 4
}
